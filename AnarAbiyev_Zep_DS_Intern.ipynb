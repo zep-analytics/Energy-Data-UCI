{
 "cells": [
  {
   "cell_type": "markdown",
   "metadata": {},
   "source": [
    "<h4>Note: I commented out plot lines for the size of the file"
   ]
  },
  {
   "cell_type": "code",
   "execution_count": 43,
   "metadata": {
    "id": "_cK_EcEBwtOY"
   },
   "outputs": [],
   "source": [
    "import pandas as pd\n",
    "data = pd.read_csv('energydata_complete.csv')"
   ]
  },
  {
   "cell_type": "markdown",
   "metadata": {
    "id": "ZEoZLsog0LuK"
   },
   "source": [
    "<h1>Overview"
   ]
  },
  {
   "cell_type": "code",
   "execution_count": 44,
   "metadata": {
    "colab": {
     "base_uri": "https://localhost:8080/",
     "height": 473
    },
    "id": "YNh391tQxBql",
    "outputId": "a6a2b374-2fb0-4352-a4a2-d6b3fccd8d61"
   },
   "outputs": [
    {
     "data": {
      "text/html": [
       "<div>\n",
       "<style scoped>\n",
       "    .dataframe tbody tr th:only-of-type {\n",
       "        vertical-align: middle;\n",
       "    }\n",
       "\n",
       "    .dataframe tbody tr th {\n",
       "        vertical-align: top;\n",
       "    }\n",
       "\n",
       "    .dataframe thead th {\n",
       "        text-align: right;\n",
       "    }\n",
       "</style>\n",
       "<table border=\"1\" class=\"dataframe\">\n",
       "  <thead>\n",
       "    <tr style=\"text-align: right;\">\n",
       "      <th></th>\n",
       "      <th>date</th>\n",
       "      <th>Appliances</th>\n",
       "      <th>lights</th>\n",
       "      <th>T1</th>\n",
       "      <th>RH_1</th>\n",
       "      <th>T2</th>\n",
       "      <th>RH_2</th>\n",
       "      <th>T3</th>\n",
       "      <th>RH_3</th>\n",
       "      <th>T4</th>\n",
       "      <th>...</th>\n",
       "      <th>T9</th>\n",
       "      <th>RH_9</th>\n",
       "      <th>T_out</th>\n",
       "      <th>Press_mm_hg</th>\n",
       "      <th>RH_out</th>\n",
       "      <th>Windspeed</th>\n",
       "      <th>Visibility</th>\n",
       "      <th>Tdewpoint</th>\n",
       "      <th>rv1</th>\n",
       "      <th>rv2</th>\n",
       "    </tr>\n",
       "  </thead>\n",
       "  <tbody>\n",
       "    <tr>\n",
       "      <th>0</th>\n",
       "      <td>2016-01-11 17:00:00</td>\n",
       "      <td>60</td>\n",
       "      <td>30</td>\n",
       "      <td>19.89</td>\n",
       "      <td>47.596667</td>\n",
       "      <td>19.2</td>\n",
       "      <td>44.790000</td>\n",
       "      <td>19.79</td>\n",
       "      <td>44.730000</td>\n",
       "      <td>19.000000</td>\n",
       "      <td>...</td>\n",
       "      <td>17.033333</td>\n",
       "      <td>45.53</td>\n",
       "      <td>6.600000</td>\n",
       "      <td>733.5</td>\n",
       "      <td>92.0</td>\n",
       "      <td>7.000000</td>\n",
       "      <td>63.000000</td>\n",
       "      <td>5.3</td>\n",
       "      <td>13.275433</td>\n",
       "      <td>13.275433</td>\n",
       "    </tr>\n",
       "    <tr>\n",
       "      <th>1</th>\n",
       "      <td>2016-01-11 17:10:00</td>\n",
       "      <td>60</td>\n",
       "      <td>30</td>\n",
       "      <td>19.89</td>\n",
       "      <td>46.693333</td>\n",
       "      <td>19.2</td>\n",
       "      <td>44.722500</td>\n",
       "      <td>19.79</td>\n",
       "      <td>44.790000</td>\n",
       "      <td>19.000000</td>\n",
       "      <td>...</td>\n",
       "      <td>17.066667</td>\n",
       "      <td>45.56</td>\n",
       "      <td>6.483333</td>\n",
       "      <td>733.6</td>\n",
       "      <td>92.0</td>\n",
       "      <td>6.666667</td>\n",
       "      <td>59.166667</td>\n",
       "      <td>5.2</td>\n",
       "      <td>18.606195</td>\n",
       "      <td>18.606195</td>\n",
       "    </tr>\n",
       "    <tr>\n",
       "      <th>2</th>\n",
       "      <td>2016-01-11 17:20:00</td>\n",
       "      <td>50</td>\n",
       "      <td>30</td>\n",
       "      <td>19.89</td>\n",
       "      <td>46.300000</td>\n",
       "      <td>19.2</td>\n",
       "      <td>44.626667</td>\n",
       "      <td>19.79</td>\n",
       "      <td>44.933333</td>\n",
       "      <td>18.926667</td>\n",
       "      <td>...</td>\n",
       "      <td>17.000000</td>\n",
       "      <td>45.50</td>\n",
       "      <td>6.366667</td>\n",
       "      <td>733.7</td>\n",
       "      <td>92.0</td>\n",
       "      <td>6.333333</td>\n",
       "      <td>55.333333</td>\n",
       "      <td>5.1</td>\n",
       "      <td>28.642668</td>\n",
       "      <td>28.642668</td>\n",
       "    </tr>\n",
       "    <tr>\n",
       "      <th>3</th>\n",
       "      <td>2016-01-11 17:30:00</td>\n",
       "      <td>50</td>\n",
       "      <td>40</td>\n",
       "      <td>19.89</td>\n",
       "      <td>46.066667</td>\n",
       "      <td>19.2</td>\n",
       "      <td>44.590000</td>\n",
       "      <td>19.79</td>\n",
       "      <td>45.000000</td>\n",
       "      <td>18.890000</td>\n",
       "      <td>...</td>\n",
       "      <td>17.000000</td>\n",
       "      <td>45.40</td>\n",
       "      <td>6.250000</td>\n",
       "      <td>733.8</td>\n",
       "      <td>92.0</td>\n",
       "      <td>6.000000</td>\n",
       "      <td>51.500000</td>\n",
       "      <td>5.0</td>\n",
       "      <td>45.410389</td>\n",
       "      <td>45.410389</td>\n",
       "    </tr>\n",
       "    <tr>\n",
       "      <th>4</th>\n",
       "      <td>2016-01-11 17:40:00</td>\n",
       "      <td>60</td>\n",
       "      <td>40</td>\n",
       "      <td>19.89</td>\n",
       "      <td>46.333333</td>\n",
       "      <td>19.2</td>\n",
       "      <td>44.530000</td>\n",
       "      <td>19.79</td>\n",
       "      <td>45.000000</td>\n",
       "      <td>18.890000</td>\n",
       "      <td>...</td>\n",
       "      <td>17.000000</td>\n",
       "      <td>45.40</td>\n",
       "      <td>6.133333</td>\n",
       "      <td>733.9</td>\n",
       "      <td>92.0</td>\n",
       "      <td>5.666667</td>\n",
       "      <td>47.666667</td>\n",
       "      <td>4.9</td>\n",
       "      <td>10.084097</td>\n",
       "      <td>10.084097</td>\n",
       "    </tr>\n",
       "  </tbody>\n",
       "</table>\n",
       "<p>5 rows × 29 columns</p>\n",
       "</div>"
      ],
      "text/plain": [
       "                  date  Appliances  lights     T1       RH_1    T2       RH_2  \\\n",
       "0  2016-01-11 17:00:00          60      30  19.89  47.596667  19.2  44.790000   \n",
       "1  2016-01-11 17:10:00          60      30  19.89  46.693333  19.2  44.722500   \n",
       "2  2016-01-11 17:20:00          50      30  19.89  46.300000  19.2  44.626667   \n",
       "3  2016-01-11 17:30:00          50      40  19.89  46.066667  19.2  44.590000   \n",
       "4  2016-01-11 17:40:00          60      40  19.89  46.333333  19.2  44.530000   \n",
       "\n",
       "      T3       RH_3         T4  ...         T9   RH_9     T_out  Press_mm_hg  \\\n",
       "0  19.79  44.730000  19.000000  ...  17.033333  45.53  6.600000        733.5   \n",
       "1  19.79  44.790000  19.000000  ...  17.066667  45.56  6.483333        733.6   \n",
       "2  19.79  44.933333  18.926667  ...  17.000000  45.50  6.366667        733.7   \n",
       "3  19.79  45.000000  18.890000  ...  17.000000  45.40  6.250000        733.8   \n",
       "4  19.79  45.000000  18.890000  ...  17.000000  45.40  6.133333        733.9   \n",
       "\n",
       "   RH_out  Windspeed  Visibility  Tdewpoint        rv1        rv2  \n",
       "0    92.0   7.000000   63.000000        5.3  13.275433  13.275433  \n",
       "1    92.0   6.666667   59.166667        5.2  18.606195  18.606195  \n",
       "2    92.0   6.333333   55.333333        5.1  28.642668  28.642668  \n",
       "3    92.0   6.000000   51.500000        5.0  45.410389  45.410389  \n",
       "4    92.0   5.666667   47.666667        4.9  10.084097  10.084097  \n",
       "\n",
       "[5 rows x 29 columns]"
      ]
     },
     "execution_count": 44,
     "metadata": {},
     "output_type": "execute_result"
    }
   ],
   "source": [
    "df = data.copy()     # to keep original data untouched, I created copy\n",
    "df.head()"
   ]
  },
  {
   "cell_type": "code",
   "execution_count": 45,
   "metadata": {},
   "outputs": [
    {
     "data": {
      "text/plain": [
       "(19735, 29)"
      ]
     },
     "execution_count": 45,
     "metadata": {},
     "output_type": "execute_result"
    }
   ],
   "source": [
    "df.shape"
   ]
  },
  {
   "cell_type": "code",
   "execution_count": 46,
   "metadata": {
    "colab": {
     "base_uri": "https://localhost:8080/"
    },
    "id": "qAFRDBRmxEst",
    "outputId": "6a1c7769-9679-4669-bc25-9f88e2587ac3"
   },
   "outputs": [
    {
     "name": "stdout",
     "output_type": "stream",
     "text": [
      "<class 'pandas.core.frame.DataFrame'>\n",
      "RangeIndex: 19735 entries, 0 to 19734\n",
      "Data columns (total 29 columns):\n",
      " #   Column       Non-Null Count  Dtype  \n",
      "---  ------       --------------  -----  \n",
      " 0   date         19735 non-null  object \n",
      " 1   Appliances   19735 non-null  int64  \n",
      " 2   lights       19735 non-null  int64  \n",
      " 3   T1           19735 non-null  float64\n",
      " 4   RH_1         19735 non-null  float64\n",
      " 5   T2           19735 non-null  float64\n",
      " 6   RH_2         19735 non-null  float64\n",
      " 7   T3           19735 non-null  float64\n",
      " 8   RH_3         19735 non-null  float64\n",
      " 9   T4           19735 non-null  float64\n",
      " 10  RH_4         19735 non-null  float64\n",
      " 11  T5           19735 non-null  float64\n",
      " 12  RH_5         19735 non-null  float64\n",
      " 13  T6           19735 non-null  float64\n",
      " 14  RH_6         19735 non-null  float64\n",
      " 15  T7           19735 non-null  float64\n",
      " 16  RH_7         19735 non-null  float64\n",
      " 17  T8           19735 non-null  float64\n",
      " 18  RH_8         19735 non-null  float64\n",
      " 19  T9           19735 non-null  float64\n",
      " 20  RH_9         19735 non-null  float64\n",
      " 21  T_out        19735 non-null  float64\n",
      " 22  Press_mm_hg  19735 non-null  float64\n",
      " 23  RH_out       19735 non-null  float64\n",
      " 24  Windspeed    19735 non-null  float64\n",
      " 25  Visibility   19735 non-null  float64\n",
      " 26  Tdewpoint    19735 non-null  float64\n",
      " 27  rv1          19735 non-null  float64\n",
      " 28  rv2          19735 non-null  float64\n",
      "dtypes: float64(26), int64(2), object(1)\n",
      "memory usage: 4.4+ MB\n"
     ]
    }
   ],
   "source": [
    "df.info()"
   ]
  },
  {
   "cell_type": "markdown",
   "metadata": {
    "id": "iYBatyA80nSC"
   },
   "source": [
    "<h1>Missing values"
   ]
  },
  {
   "cell_type": "code",
   "execution_count": 47,
   "metadata": {
    "colab": {
     "base_uri": "https://localhost:8080/"
    },
    "id": "NiE1v_3txpR1",
    "outputId": "5c7a1441-b442-48bb-aeaf-8a1fca55d4d7"
   },
   "outputs": [
    {
     "data": {
      "text/plain": [
       "0"
      ]
     },
     "execution_count": 47,
     "metadata": {},
     "output_type": "execute_result"
    }
   ],
   "source": [
    "df.isnull().sum().sum()  # no NAs"
   ]
  },
  {
   "cell_type": "markdown",
   "metadata": {
    "id": "4YSQt6t40jVZ"
   },
   "source": [
    "<h1>Descriptive Summary"
   ]
  },
  {
   "cell_type": "code",
   "execution_count": 48,
   "metadata": {
    "colab": {
     "base_uri": "https://localhost:8080/",
     "height": 393
    },
    "id": "It0kNReGxtT-",
    "outputId": "8e6099c6-b94e-4c5e-bad4-d46d6194b280"
   },
   "outputs": [
    {
     "data": {
      "text/html": [
       "<div>\n",
       "<style scoped>\n",
       "    .dataframe tbody tr th:only-of-type {\n",
       "        vertical-align: middle;\n",
       "    }\n",
       "\n",
       "    .dataframe tbody tr th {\n",
       "        vertical-align: top;\n",
       "    }\n",
       "\n",
       "    .dataframe thead th {\n",
       "        text-align: right;\n",
       "    }\n",
       "</style>\n",
       "<table border=\"1\" class=\"dataframe\">\n",
       "  <thead>\n",
       "    <tr style=\"text-align: right;\">\n",
       "      <th></th>\n",
       "      <th>Appliances</th>\n",
       "      <th>lights</th>\n",
       "      <th>T1</th>\n",
       "      <th>RH_1</th>\n",
       "      <th>T2</th>\n",
       "      <th>RH_2</th>\n",
       "      <th>T3</th>\n",
       "      <th>RH_3</th>\n",
       "      <th>T4</th>\n",
       "      <th>RH_4</th>\n",
       "      <th>...</th>\n",
       "      <th>T9</th>\n",
       "      <th>RH_9</th>\n",
       "      <th>T_out</th>\n",
       "      <th>Press_mm_hg</th>\n",
       "      <th>RH_out</th>\n",
       "      <th>Windspeed</th>\n",
       "      <th>Visibility</th>\n",
       "      <th>Tdewpoint</th>\n",
       "      <th>rv1</th>\n",
       "      <th>rv2</th>\n",
       "    </tr>\n",
       "  </thead>\n",
       "  <tbody>\n",
       "    <tr>\n",
       "      <th>count</th>\n",
       "      <td>19735.000000</td>\n",
       "      <td>19735.000000</td>\n",
       "      <td>19735.000000</td>\n",
       "      <td>19735.000000</td>\n",
       "      <td>19735.000000</td>\n",
       "      <td>19735.000000</td>\n",
       "      <td>19735.000000</td>\n",
       "      <td>19735.000000</td>\n",
       "      <td>19735.000000</td>\n",
       "      <td>19735.000000</td>\n",
       "      <td>...</td>\n",
       "      <td>19735.000000</td>\n",
       "      <td>19735.000000</td>\n",
       "      <td>19735.000000</td>\n",
       "      <td>19735.000000</td>\n",
       "      <td>19735.000000</td>\n",
       "      <td>19735.000000</td>\n",
       "      <td>19735.000000</td>\n",
       "      <td>19735.000000</td>\n",
       "      <td>19735.000000</td>\n",
       "      <td>19735.000000</td>\n",
       "    </tr>\n",
       "    <tr>\n",
       "      <th>mean</th>\n",
       "      <td>97.694958</td>\n",
       "      <td>3.801875</td>\n",
       "      <td>21.686571</td>\n",
       "      <td>40.259739</td>\n",
       "      <td>20.341219</td>\n",
       "      <td>40.420420</td>\n",
       "      <td>22.267611</td>\n",
       "      <td>39.242500</td>\n",
       "      <td>20.855335</td>\n",
       "      <td>39.026904</td>\n",
       "      <td>...</td>\n",
       "      <td>19.485828</td>\n",
       "      <td>41.552401</td>\n",
       "      <td>7.411665</td>\n",
       "      <td>755.522602</td>\n",
       "      <td>79.750418</td>\n",
       "      <td>4.039752</td>\n",
       "      <td>38.330834</td>\n",
       "      <td>3.760707</td>\n",
       "      <td>24.988033</td>\n",
       "      <td>24.988033</td>\n",
       "    </tr>\n",
       "    <tr>\n",
       "      <th>std</th>\n",
       "      <td>102.524891</td>\n",
       "      <td>7.935988</td>\n",
       "      <td>1.606066</td>\n",
       "      <td>3.979299</td>\n",
       "      <td>2.192974</td>\n",
       "      <td>4.069813</td>\n",
       "      <td>2.006111</td>\n",
       "      <td>3.254576</td>\n",
       "      <td>2.042884</td>\n",
       "      <td>4.341321</td>\n",
       "      <td>...</td>\n",
       "      <td>2.014712</td>\n",
       "      <td>4.151497</td>\n",
       "      <td>5.317409</td>\n",
       "      <td>7.399441</td>\n",
       "      <td>14.901088</td>\n",
       "      <td>2.451221</td>\n",
       "      <td>11.794719</td>\n",
       "      <td>4.194648</td>\n",
       "      <td>14.496634</td>\n",
       "      <td>14.496634</td>\n",
       "    </tr>\n",
       "    <tr>\n",
       "      <th>min</th>\n",
       "      <td>10.000000</td>\n",
       "      <td>0.000000</td>\n",
       "      <td>16.790000</td>\n",
       "      <td>27.023333</td>\n",
       "      <td>16.100000</td>\n",
       "      <td>20.463333</td>\n",
       "      <td>17.200000</td>\n",
       "      <td>28.766667</td>\n",
       "      <td>15.100000</td>\n",
       "      <td>27.660000</td>\n",
       "      <td>...</td>\n",
       "      <td>14.890000</td>\n",
       "      <td>29.166667</td>\n",
       "      <td>-5.000000</td>\n",
       "      <td>729.300000</td>\n",
       "      <td>24.000000</td>\n",
       "      <td>0.000000</td>\n",
       "      <td>1.000000</td>\n",
       "      <td>-6.600000</td>\n",
       "      <td>0.005322</td>\n",
       "      <td>0.005322</td>\n",
       "    </tr>\n",
       "    <tr>\n",
       "      <th>25%</th>\n",
       "      <td>50.000000</td>\n",
       "      <td>0.000000</td>\n",
       "      <td>20.760000</td>\n",
       "      <td>37.333333</td>\n",
       "      <td>18.790000</td>\n",
       "      <td>37.900000</td>\n",
       "      <td>20.790000</td>\n",
       "      <td>36.900000</td>\n",
       "      <td>19.530000</td>\n",
       "      <td>35.530000</td>\n",
       "      <td>...</td>\n",
       "      <td>18.000000</td>\n",
       "      <td>38.500000</td>\n",
       "      <td>3.666667</td>\n",
       "      <td>750.933333</td>\n",
       "      <td>70.333333</td>\n",
       "      <td>2.000000</td>\n",
       "      <td>29.000000</td>\n",
       "      <td>0.900000</td>\n",
       "      <td>12.497889</td>\n",
       "      <td>12.497889</td>\n",
       "    </tr>\n",
       "    <tr>\n",
       "      <th>50%</th>\n",
       "      <td>60.000000</td>\n",
       "      <td>0.000000</td>\n",
       "      <td>21.600000</td>\n",
       "      <td>39.656667</td>\n",
       "      <td>20.000000</td>\n",
       "      <td>40.500000</td>\n",
       "      <td>22.100000</td>\n",
       "      <td>38.530000</td>\n",
       "      <td>20.666667</td>\n",
       "      <td>38.400000</td>\n",
       "      <td>...</td>\n",
       "      <td>19.390000</td>\n",
       "      <td>40.900000</td>\n",
       "      <td>6.916667</td>\n",
       "      <td>756.100000</td>\n",
       "      <td>83.666667</td>\n",
       "      <td>3.666667</td>\n",
       "      <td>40.000000</td>\n",
       "      <td>3.433333</td>\n",
       "      <td>24.897653</td>\n",
       "      <td>24.897653</td>\n",
       "    </tr>\n",
       "    <tr>\n",
       "      <th>75%</th>\n",
       "      <td>100.000000</td>\n",
       "      <td>0.000000</td>\n",
       "      <td>22.600000</td>\n",
       "      <td>43.066667</td>\n",
       "      <td>21.500000</td>\n",
       "      <td>43.260000</td>\n",
       "      <td>23.290000</td>\n",
       "      <td>41.760000</td>\n",
       "      <td>22.100000</td>\n",
       "      <td>42.156667</td>\n",
       "      <td>...</td>\n",
       "      <td>20.600000</td>\n",
       "      <td>44.338095</td>\n",
       "      <td>10.408333</td>\n",
       "      <td>760.933333</td>\n",
       "      <td>91.666667</td>\n",
       "      <td>5.500000</td>\n",
       "      <td>40.000000</td>\n",
       "      <td>6.566667</td>\n",
       "      <td>37.583769</td>\n",
       "      <td>37.583769</td>\n",
       "    </tr>\n",
       "    <tr>\n",
       "      <th>max</th>\n",
       "      <td>1080.000000</td>\n",
       "      <td>70.000000</td>\n",
       "      <td>26.260000</td>\n",
       "      <td>63.360000</td>\n",
       "      <td>29.856667</td>\n",
       "      <td>56.026667</td>\n",
       "      <td>29.236000</td>\n",
       "      <td>50.163333</td>\n",
       "      <td>26.200000</td>\n",
       "      <td>51.090000</td>\n",
       "      <td>...</td>\n",
       "      <td>24.500000</td>\n",
       "      <td>53.326667</td>\n",
       "      <td>26.100000</td>\n",
       "      <td>772.300000</td>\n",
       "      <td>100.000000</td>\n",
       "      <td>14.000000</td>\n",
       "      <td>66.000000</td>\n",
       "      <td>15.500000</td>\n",
       "      <td>49.996530</td>\n",
       "      <td>49.996530</td>\n",
       "    </tr>\n",
       "  </tbody>\n",
       "</table>\n",
       "<p>8 rows × 28 columns</p>\n",
       "</div>"
      ],
      "text/plain": [
       "         Appliances        lights            T1          RH_1            T2  \\\n",
       "count  19735.000000  19735.000000  19735.000000  19735.000000  19735.000000   \n",
       "mean      97.694958      3.801875     21.686571     40.259739     20.341219   \n",
       "std      102.524891      7.935988      1.606066      3.979299      2.192974   \n",
       "min       10.000000      0.000000     16.790000     27.023333     16.100000   \n",
       "25%       50.000000      0.000000     20.760000     37.333333     18.790000   \n",
       "50%       60.000000      0.000000     21.600000     39.656667     20.000000   \n",
       "75%      100.000000      0.000000     22.600000     43.066667     21.500000   \n",
       "max     1080.000000     70.000000     26.260000     63.360000     29.856667   \n",
       "\n",
       "               RH_2            T3          RH_3            T4          RH_4  \\\n",
       "count  19735.000000  19735.000000  19735.000000  19735.000000  19735.000000   \n",
       "mean      40.420420     22.267611     39.242500     20.855335     39.026904   \n",
       "std        4.069813      2.006111      3.254576      2.042884      4.341321   \n",
       "min       20.463333     17.200000     28.766667     15.100000     27.660000   \n",
       "25%       37.900000     20.790000     36.900000     19.530000     35.530000   \n",
       "50%       40.500000     22.100000     38.530000     20.666667     38.400000   \n",
       "75%       43.260000     23.290000     41.760000     22.100000     42.156667   \n",
       "max       56.026667     29.236000     50.163333     26.200000     51.090000   \n",
       "\n",
       "       ...            T9          RH_9         T_out   Press_mm_hg  \\\n",
       "count  ...  19735.000000  19735.000000  19735.000000  19735.000000   \n",
       "mean   ...     19.485828     41.552401      7.411665    755.522602   \n",
       "std    ...      2.014712      4.151497      5.317409      7.399441   \n",
       "min    ...     14.890000     29.166667     -5.000000    729.300000   \n",
       "25%    ...     18.000000     38.500000      3.666667    750.933333   \n",
       "50%    ...     19.390000     40.900000      6.916667    756.100000   \n",
       "75%    ...     20.600000     44.338095     10.408333    760.933333   \n",
       "max    ...     24.500000     53.326667     26.100000    772.300000   \n",
       "\n",
       "             RH_out     Windspeed    Visibility     Tdewpoint           rv1  \\\n",
       "count  19735.000000  19735.000000  19735.000000  19735.000000  19735.000000   \n",
       "mean      79.750418      4.039752     38.330834      3.760707     24.988033   \n",
       "std       14.901088      2.451221     11.794719      4.194648     14.496634   \n",
       "min       24.000000      0.000000      1.000000     -6.600000      0.005322   \n",
       "25%       70.333333      2.000000     29.000000      0.900000     12.497889   \n",
       "50%       83.666667      3.666667     40.000000      3.433333     24.897653   \n",
       "75%       91.666667      5.500000     40.000000      6.566667     37.583769   \n",
       "max      100.000000     14.000000     66.000000     15.500000     49.996530   \n",
       "\n",
       "                rv2  \n",
       "count  19735.000000  \n",
       "mean      24.988033  \n",
       "std       14.496634  \n",
       "min        0.005322  \n",
       "25%       12.497889  \n",
       "50%       24.897653  \n",
       "75%       37.583769  \n",
       "max       49.996530  \n",
       "\n",
       "[8 rows x 28 columns]"
      ]
     },
     "execution_count": 48,
     "metadata": {},
     "output_type": "execute_result"
    }
   ],
   "source": [
    "df.describe()"
   ]
  },
  {
   "cell_type": "code",
   "execution_count": 65,
   "metadata": {},
   "outputs": [
    {
     "data": {
      "text/plain": [
       "<AxesSubplot:>"
      ]
     },
     "execution_count": 65,
     "metadata": {},
     "output_type": "execute_result"
    },
    {
     "data": {
      "image/png": "[encoded data removed]",
      "text/plain": [
       "<Figure size 1296x432 with 1 Axes>"
      ]
     },
     "metadata": {
      "needs_background": "light"
     },
     "output_type": "display_data"
    }
   ],
   "source": [
    "# average of columns\n",
    "df.drop(['date'], axis = 1).mean().plot(kind='bar', figsize = (18, 6))"
   ]
  },
  {
   "cell_type": "markdown",
   "metadata": {
    "id": "U7iwv1aS0TXi"
   },
   "source": [
    "<h1>Outlier Analysis"
   ]
  },
  {
   "cell_type": "code",
   "execution_count": 49,
   "metadata": {
    "colab": {
     "base_uri": "https://localhost:8080/",
     "height": 1000
    },
    "id": "PvQpWQMJxvdc",
    "outputId": "38daf2e2-f187-452e-bb19-3fe3117acb99"
   },
   "outputs": [],
   "source": [
    "import seaborn as sns\n",
    "import matplotlib.pyplot as plt\n",
    "\n",
    "#columns_name=df.drop('date', axis = 1).columns\n",
    "#fig, axes = plt.subplots(nrows=len(columns_name), figsize=(8, 100))\n",
    "#for i in range(len(columns_name)):\n",
    "   \n",
    "    #sns.boxplot(ax=axes[i], y=columns_name[i], data=df)\n",
    "    "
   ]
  },
  {
   "cell_type": "code",
   "execution_count": 50,
   "metadata": {
    "id": "CHBLAS2IyBIK"
   },
   "outputs": [],
   "source": [
    "def number_of_outliers(df):\n",
    "    \n",
    "    df = df.select_dtypes(exclude = 'object')\n",
    "    \n",
    "    Q1 = df.quantile(0.25)\n",
    "    Q3 = df.quantile(0.75)\n",
    "    IQR = Q3 - Q1\n",
    "    \n",
    "    return ((df < (Q1 - 1.5 * IQR)) | (df > (Q3 + 1.5 * IQR))).sum()"
   ]
  },
  {
   "cell_type": "code",
   "execution_count": 51,
   "metadata": {
    "colab": {
     "base_uri": "https://localhost:8080/"
    },
    "id": "yKH1IlFSypGs",
    "outputId": "fa37b0b6-bc05-4e09-e2ef-c3ff7108dae2"
   },
   "outputs": [
    {
     "data": {
      "text/plain": [
       "Appliances     2138\n",
       "lights         4483\n",
       "T1              515\n",
       "RH_1            146\n",
       "T2              546\n",
       "RH_2            235\n",
       "T3              217\n",
       "RH_3             15\n",
       "T4              186\n",
       "RH_4              0\n",
       "T5              179\n",
       "RH_5           1330\n",
       "T6              515\n",
       "RH_6              0\n",
       "T7                2\n",
       "RH_7             42\n",
       "T8               71\n",
       "RH_8             17\n",
       "T9                0\n",
       "RH_9             21\n",
       "T_out           436\n",
       "Press_mm_hg     219\n",
       "RH_out          239\n",
       "Windspeed       214\n",
       "Visibility     2522\n",
       "Tdewpoint        10\n",
       "rv1               0\n",
       "rv2               0\n",
       "dtype: int64"
      ]
     },
     "execution_count": 51,
     "metadata": {},
     "output_type": "execute_result"
    }
   ],
   "source": [
    "number_of_outliers(df)"
   ]
  },
  {
   "cell_type": "markdown",
   "metadata": {},
   "source": [
    "<h3>Outlier Cleaning"
   ]
  },
  {
   "cell_type": "code",
   "execution_count": 52,
   "metadata": {},
   "outputs": [],
   "source": [
    "def outlier_treatment(datacolumn):\n",
    "    sorted(datacolumn)\n",
    "    Q1,Q3 = np.percentile(datacolumn , [25,75])\n",
    "    IQR = Q3 - Q1\n",
    "    lower_range = Q1 - (1.5 * IQR)\n",
    "    upper_range = Q3 + (1.5 * IQR)\n",
    "    return lower_range,upper_range"
   ]
  },
  {
   "cell_type": "code",
   "execution_count": 53,
   "metadata": {},
   "outputs": [],
   "source": [
    "import numpy as np\n",
    "\n",
    "for col in df.drop(['date', 'lights', 'Appliances'], axis=1).columns:\n",
    "    \n",
    "    lowerbound,upperbound = outlier_treatment(df[col])\n",
    "    df[col]=np.clip(df[col],a_min=lowerbound,a_max=upperbound)"
   ]
  },
  {
   "cell_type": "markdown",
   "metadata": {
    "id": "MOk4OAqD01Gi"
   },
   "source": [
    "<h1>Distribution of Numerical Columns"
   ]
  },
  {
   "cell_type": "code",
   "execution_count": 54,
   "metadata": {
    "colab": {
     "base_uri": "https://localhost:8080/",
     "height": 1000
    },
    "id": "x02DKzYEyrZK",
    "outputId": "63e56bd1-5d5f-46d5-ba40-18f573d1f39e"
   },
   "outputs": [],
   "source": [
    "import plotly.express as px\n",
    "\n",
    "df_numerical = df.select_dtypes(exclude = 'object').columns\n",
    "\n",
    "#for i in df_numerical:\n",
    "    #fig = px.histogram(df, x = i)\n",
    "    #fig.show()"
   ]
  },
  {
   "cell_type": "markdown",
   "metadata": {},
   "source": [
    "<h1>Correlation Matrix"
   ]
  },
  {
   "cell_type": "code",
   "execution_count": 55,
   "metadata": {
    "colab": {
     "base_uri": "https://localhost:8080/",
     "height": 542
    },
    "id": "BYjzijlf1Rs0",
    "outputId": "7e5cf719-13bf-433b-a108-0b468adb8e25"
   },
   "outputs": [
    {
     "data": {
      "application/vnd.plotly.v1+json": {
       "config": {
        "plotlyServerURL": "https://plot.ly"
       },
       "data": [
        {
         "coloraxis": "coloraxis",
         "hovertemplate": "x: %{x}<br>y: %{y}<br>color: %{z}<extra></extra>",
         "name": "0",
         "type": "heatmap",
         "x": [
          "Appliances",
          "lights",
          "T1",
          "RH_1",
          "T2",
          "RH_2",
          "T3",
          "RH_3",
          "T4",
          "RH_4",
          "T5",
          "RH_5",
          "T6",
          "RH_6",
          "T7",
          "RH_7",
          "T8",
          "RH_8",
          "T9",
          "RH_9",
          "T_out",
          "Press_mm_hg",
          "RH_out",
          "Windspeed",
          "Visibility",
          "Tdewpoint",
          "rv1",
          "rv2"
         ],
         "xaxis": "x",
         "y": [
          "Appliances",
          "lights",
          "T1",
          "RH_1",
          "T2",
          "RH_2",
          "T3",
          "RH_3",
          "T4",
          "RH_4",
          "T5",
          "RH_5",
          "T6",
          "RH_6",
          "T7",
          "RH_7",
          "T8",
          "RH_8",
          "T9",
          "RH_9",
          "T_out",
          "Press_mm_hg",
          "RH_out",
          "Windspeed",
          "Visibility",
          "Tdewpoint",
          "rv1",
          "rv2"
         ],
         "yaxis": "y",
         "z": [
          [
           1,
           0.1972775602062424,
           0.05499206165105539,
           0.08519746992262407,
           0.1199194341824277,
           -0.06284976305440976,
           0.08122579001229763,
           0.036186109298516345,
           0.040567689399945324,
           0.016965431418944472,
           0.018618370605187968,
           -0.016128630132683713,
           0.1186018060332739,
           -0.08317760704200591,
           0.025797797997190224,
           -0.05558989876688835,
           0.039692712480135305,
           -0.0940121599731031,
           0.010010284644667997,
           -0.051420830247359946,
           0.09985351606714142,
           -0.03390675418364162,
           -0.15472383379887564,
           0.08818517193939678,
           0.004604853444455698,
           0.01536118613302367,
           -0.011144917533634427,
           -0.011144917533634427
          ],
          [
           0.1972775602062424,
           1,
           -0.02214779756317927,
           0.10800306179799865,
           -0.00369471525074998,
           0.05134206449000159,
           -0.09749942854553963,
           0.13098600036573124,
           -0.008387358656318561,
           0.11493570642535489,
           -0.0783544078557537,
           0.12549537598390867,
           -0.07899882687649737,
           0.15375647206660534,
           -0.13534720211219342,
           0.03485424857832835,
           -0.07128404806241037,
           0.01281564374421062,
           -0.15759240705013317,
           -0.008813390001225063,
           -0.07427207114394363,
           -0.009908770175390316,
           0.06791300548393886,
           0.05989413984726166,
           0.017802569056321042,
           -0.03631460923976622,
           0.000521114548199676,
           0.000521114548199676
          ],
          [
           0.05499206165105539,
           -0.02214779756317927,
           1,
           0.1674337074366219,
           0.8467004314426676,
           0.004999872350662182,
           0.8928965788399865,
           -0.026010287676555194,
           0.8751363927015499,
           0.10149414838082504,
           0.8853215275177231,
           -0.034033239403668626,
           0.6562940678136605,
           -0.6155176174419381,
           0.8381885986597218,
           0.13829212151714146,
           0.8248302584878344,
           -0.004088557003729788,
           0.844697441900139,
           0.07331061943354071,
           0.68446621818605,
           -0.1465963271434472,
           -0.3395667612197312,
           -0.09085212304777424,
           -0.06230693619208061,
           0.578157149738537,
           -0.006008333470326337,
           -0.006008333470326337
          ],
          [
           0.08519746992262407,
           0.10800306179799865,
           0.1674337074366219,
           1,
           0.27592861270160896,
           0.799038450194996,
           0.2501615281651287,
           0.8472333428011941,
           0.10718900911607959,
           0.8840489244559935,
           0.2060939965994089,
           0.3792213630823717,
           0.3240838541829369,
           0.24638603147655747,
           0.020872129789873635,
           0.8045120094067199,
           -0.031117736060370143,
           0.7393603851710447,
           0.11509303079080349,
           0.7671245091382616,
           0.35221929830191556,
           -0.2965788338954738,
           0.2702234006909114,
           0.2071326095529211,
           -0.012246058301059527,
           0.641724807236042,
           -0.0015511191279474498,
           -0.0015511191279474498
          ],
          [
           0.1199194341824277,
           -0.00369471525074998,
           0.8467004314426676,
           0.27592861270160896,
           1,
           -0.1429667093214061,
           0.737570382695767,
           0.1256689698854534,
           0.7664492935516818,
           0.23835711223167577,
           0.7260781599134258,
           0.017814867179026306,
           0.7939804785437905,
           -0.5811692258489464,
           0.6668148283681529,
           0.23125647617647024,
           0.5858297008978467,
           0.07066570603594183,
           0.677824491510495,
           0.1581099961110129,
           0.7885641139455638,
           -0.13379554924993584,
           -0.49966090657550394,
           0.062214666980227595,
           -0.05492928716925575,
           0.5852400737094383,
           -0.009801271054957383,
           -0.009801271054957383
          ],
          [
           -0.06284976305440976,
           0.05134206449000159,
           0.004999872350662182,
           0.799038450194996,
           -0.1429667093214061,
           1,
           0.14263132441730528,
           0.6809408309395308,
           -0.042741946376973594,
           0.7246558778924006,
           0.11622816260368429,
           0.32674234101888955,
           0.010819794356595016,
           0.38888663371280896,
           -0.04859997152100826,
           0.6956278205185599,
           -0.03896637883845088,
           0.6846122351635522,
           0.05800380839302121,
           0.6819489809621249,
           0.05619418141750718,
           -0.25812601663703477,
           0.5764459904628018,
           0.06993594363731237,
           -0.004916087705572126,
           0.5044678927796474,
           0.006400337210851117,
           0.006400337210851117
          ],
          [
           0.08122579001229763,
           -0.09749942854553963,
           0.8928965788399865,
           0.2501615281651287,
           0.737570382695767,
           0.14263132441730528,
           1,
           -0.012922753216753654,
           0.853876887976195,
           0.11970613532601129,
           0.8895170288534181,
           -0.07756755304403924,
           0.6840909742068954,
           -0.6486969997576651,
           0.8482479846707476,
           0.1705363316756265,
           0.7982803268904242,
           0.041768852357148806,
           0.9029312355483423,
           0.13310597774026536,
           0.6976206586449113,
           -0.19348476584666494,
           -0.27798621861429895,
           -0.10370283217982604,
           -0.08574932944017627,
           0.6453044960090445,
           -0.004929884370306254,
           -0.004929884370306254
          ],
          [
           0.036186109298516345,
           0.13098600036573124,
           -0.026010287676555194,
           0.8472333428011941,
           0.1256689698854534,
           0.6809408309395308,
           -0.012922753216753654,
           1,
           -0.13998341487428967,
           0.8991342861390711,
           -0.049955419602962875,
           0.4611801517703872,
           0.07930409588213164,
           0.5149255838759049,
           -0.24992454936263625,
           0.832866743156097,
           -0.2831552790534018,
           0.8289549064946482,
           -0.19510656012996913,
           0.833771136988487,
           0.12313619566433968,
           -0.23403232291226458,
           0.3557793138898068,
           0.2631551777441274,
           0.019538430805762907,
           0.4144814250411645,
           -0.0005106663760804422,
           -0.0005106663760804422
          ],
          [
           0.040567689399945324,
           -0.008387358656318561,
           0.8751363927015499,
           0.10718900911607959,
           0.7664492935516818,
           -0.042741946376973594,
           0.853876887976195,
           -0.13998341487428967,
           1,
           -0.04762863704480866,
           0.8722006579004544,
           -0.09993805181961728,
           0.6525322205583499,
           -0.7036801678553471,
           0.8779083838529643,
           0.044678614925235616,
           0.7955464969918418,
           -0.09440968132215051,
           0.8896574459825316,
           -0.02524072507013227,
           0.6642822011553111,
           -0.07682161407397672,
           -0.3872812893194349,
           -0.1873870132401171,
           -0.09155871564646607,
           0.5216656148027423,
           -0.0018004090468728385,
           -0.0018004090468728385
          ],
          [
           0.016965431418944472,
           0.11493570642535489,
           0.10149414838082504,
           0.8840489244559935,
           0.23835711223167577,
           0.7246558778924006,
           0.11970613532601129,
           0.8991342861390711,
           -0.04762863704480866,
           1,
           0.09106584270758007,
           0.4313189879274174,
           0.26415793528281384,
           0.3921777097035171,
           -0.13120509356045523,
           0.8943703576317041,
           -0.16680826658968373,
           0.847270091140946,
           -0.044517583619793875,
           0.8566479032424844,
           0.30056818540223085,
           -0.2516920762471149,
           0.3356775447149361,
           0.3007013075001327,
           0.006901127925553593,
           0.6165135252434017,
           -0.0017865022696098168,
           -0.0017865022696098168
          ],
          [
           0.018618370605187968,
           -0.0783544078557537,
           0.8853215275177231,
           0.2060939965994089,
           0.7260781599134258,
           0.11622816260368429,
           0.8895170288534181,
           -0.049955419602962875,
           0.8722006579004544,
           0.09106584270758007,
           1,
           -0.011155974210819177,
           0.6274882069796986,
           -0.6328118254359959,
           0.8708096584982389,
           0.1488573136698355,
           0.8255628108418571,
           0.015819166367725433,
           0.9115286756423487,
           0.0725575701130522,
           0.6501032659055405,
           -0.17478997194215465,
           -0.27096880879621305,
           -0.14785355306076092,
           -0.07049114250473477,
           0.588543655346454,
           -0.005464001279929316,
           -0.005464001279929316
          ],
          [
           -0.016128630132683713,
           0.12549537598390867,
           -0.034033239403668626,
           0.3792213630823717,
           0.017814867179026306,
           0.32674234101888955,
           -0.07756755304403924,
           0.4611801517703872,
           -0.09993805181961728,
           0.4313189879274174,
           -0.011155974210819177,
           1,
           -0.0910711039135377,
           0.32540498991552624,
           -0.16818025270779538,
           0.4139973475335935,
           -0.11609329640246327,
           0.4520868271568674,
           -0.16039793050981704,
           0.364821136132186,
           -0.05939456614131225,
           -0.14862963206687047,
           0.23773683710577165,
           0.1006006644906365,
           -0.0018587414211403473,
           0.1066826642780727,
           -0.009657837861703352,
           -0.009657837861703352
          ],
          [
           0.1186018060332739,
           -0.07899882687649737,
           0.6562940678136605,
           0.3240838541829369,
           0.7939804785437905,
           0.010819794356595016,
           0.6840909742068954,
           0.07930409588213164,
           0.6525322205583499,
           0.26415793528281384,
           0.6274882069796986,
           -0.0910711039135377,
           1,
           -0.67332493090219,
           0.6180295911324987,
           0.2587422064758795,
           0.4841841631939985,
           0.07654386084837149,
           0.6674269818495219,
           0.18702509000885562,
           0.97468072482053,
           -0.1447432917682596,
           -0.5602827240973082,
           0.17705415226300117,
           -0.0601202965011827,
           0.7701568504721119,
           -0.014787445041565893,
           -0.014787445041565893
          ],
          [
           -0.08317760704200591,
           0.15375647206660534,
           -0.6155176174419381,
           0.24638603147655747,
           -0.5811692258489464,
           0.38888663371280896,
           -0.6486969997576651,
           0.5149255838759049,
           -0.7036801678553471,
           0.3921777097035171,
           -0.6328118254359959,
           0.32540498991552624,
           -0.67332493090219,
           1,
           -0.7539734564103739,
           0.3571336035259238,
           -0.6660684009334719,
           0.48957733919380575,
           -0.7389402122949267,
           0.3918980371026075,
           -0.6422034625289552,
           -0.061718075779253374,
           0.7207587253715823,
           0.0977198049004222,
           0.09363106679461487,
           -0.260406568029415,
           0.011671356607553548,
           0.011671356607553548
          ],
          [
           0.025797797997190224,
           -0.13534720211219342,
           0.8381885986597218,
           0.020872129789873635,
           0.6668148283681529,
           -0.04859997152100826,
           0.8482479846707476,
           -0.24992454936263625,
           0.8779083838529643,
           -0.13120509356045523,
           0.8708096584982389,
           -0.16818025270779538,
           0.6180295911324987,
           -0.7539734564103739,
           1,
           -0.03384173537316583,
           0.8822443315409058,
           -0.20996433557406963,
           0.9447765228645182,
           -0.07772439413499417,
           0.6306220443281363,
           -0.1017679665628786,
           -0.4109773870484553,
           -0.18634333748377616,
           -0.09906573106696942,
           0.46660781904373866,
           -0.003899448265793756,
           -0.003899448265793756
          ],
          [
           -0.05558989876688835,
           0.03485424857832835,
           0.13829212151714146,
           0.8045120094067199,
           0.23125647617647024,
           0.6956278205185599,
           0.1705363316756265,
           0.832866743156097,
           0.044678614925235616,
           0.8943703576317041,
           0.1488573136698355,
           0.4139973475335935,
           0.2587422064758795,
           0.3571336035259238,
           -0.03384173537316583,
           1,
           -0.12390905273099659,
           0.8839050928012749,
           0.028285996931710185,
           0.8586696728879444,
           0.29995862795380124,
           -0.26802865493921957,
           0.37858820287053346,
           0.21309353937757547,
           -0.004713402225312504,
           0.6419709640507659,
           0.0018526199524693885,
           0.0018526199524693885
          ],
          [
           0.039692712480135305,
           -0.07128404806241037,
           0.8248302584878344,
           -0.031117736060370143,
           0.5858297008978467,
           -0.03896637883845088,
           0.7982803268904242,
           -0.2831552790534018,
           0.7955464969918418,
           -0.16680826658968373,
           0.8255628108418571,
           -0.11609329640246327,
           0.4841841631939985,
           -0.6660684009334719,
           0.8822443315409058,
           -0.12390905273099659,
           1,
           -0.209480585710124,
           0.8694464173942866,
           -0.1568998890214469,
           0.5040095201626175,
           -0.1645085703942322,
           -0.29984820174012566,
           -0.22126482456608865,
           -0.05114114308224001,
           0.392679384028801,
           -0.0031937114658229303,
           -0.0031937114658229303
          ],
          [
           -0.0940121599731031,
           0.01281564374421062,
           -0.004088557003729788,
           0.7393603851710447,
           0.07066570603594183,
           0.6846122351635522,
           0.041768852357148806,
           0.8289549064946482,
           -0.09440968132215051,
           0.847270091140946,
           0.015819166367725433,
           0.4520868271568674,
           0.07654386084837149,
           0.48957733919380575,
           -0.20996433557406963,
           0.8839050928012749,
           -0.209480585710124,
           1,
           -0.11294467703064473,
           0.8558524433646815,
           0.12313532934972077,
           -0.22697106607726486,
           0.48760777457689397,
           0.20113316300170805,
           0.04660308338696654,
           0.5017803316358651,
           0.004519613069442226,
           0.004519613069442226
          ],
          [
           0.010010284644667997,
           -0.15759240705013317,
           0.844697441900139,
           0.11509303079080349,
           0.677824491510495,
           0.05800380839302121,
           0.9029312355483423,
           -0.19510656012996913,
           0.8896574459825316,
           -0.044517583619793875,
           0.9115286756423487,
           -0.16039793050981704,
           0.6674269818495219,
           -0.7389402122949267,
           0.9447765228645182,
           0.028285996931710185,
           0.8694464173942866,
           -0.11294467703064473,
           1,
           -0.008704720343169233,
           0.6689603523669658,
           -0.16124155722488723,
           -0.3184379842626002,
           -0.17868880957865502,
           -0.09073503389713458,
           0.5814695948879068,
           -0.0012271527976214296,
           -0.0012271527976214296
          ],
          [
           -0.051420830247359946,
           -0.008813390001225063,
           0.07331061943354071,
           0.7671245091382616,
           0.1581099961110129,
           0.6819489809621249,
           0.13310597774026536,
           0.833771136988487,
           -0.02524072507013227,
           0.8566479032424844,
           0.0725575701130522,
           0.364821136132186,
           0.18702509000885562,
           0.3918980371026075,
           -0.07772439413499417,
           0.8586696728879444,
           -0.1568998890214469,
           0.8558524433646815,
           -0.008704720343169233,
           1,
           0.22879753252283727,
           -0.18567447533532838,
           0.3594122842327643,
           0.2392570978349317,
           0.009450328755388294,
           0.5403329124325165,
           -0.002948325687892605,
           -0.002948325687892605
          ],
          [
           0.09985351606714142,
           -0.07427207114394363,
           0.68446621818605,
           0.35221929830191556,
           0.7885641139455638,
           0.05619418141750718,
           0.6976206586449113,
           0.12313619566433968,
           0.6642822011553111,
           0.30056818540223085,
           0.6501032659055405,
           -0.05939456614131225,
           0.97468072482053,
           -0.6422034625289552,
           0.6306220443281363,
           0.29995862795380124,
           0.5040095201626175,
           0.12313532934972077,
           0.6689603523669658,
           0.22879753252283727,
           1,
           -0.14662428370891858,
           -0.5634571830592184,
           0.19877024214019764,
           -0.05493550788610785,
           0.7988629658525156,
           -0.014838643358736312,
           -0.014838643358736312
          ],
          [
           -0.03390675418364162,
           -0.009908770175390316,
           -0.1465963271434472,
           -0.2965788338954738,
           -0.13379554924993584,
           -0.25812601663703477,
           -0.19348476584666494,
           -0.23403232291226458,
           -0.07682161407397672,
           -0.2516920762471149,
           -0.17478997194215465,
           -0.14862963206687047,
           -0.1447432917682596,
           -0.061718075779253374,
           -0.1017679665628786,
           -0.26802865493921957,
           -0.1645085703942322,
           -0.22697106607726486,
           -0.16124155722488723,
           -0.18567447533532838,
           -0.14662428370891858,
           1,
           -0.08920311276713497,
           -0.2342048647007157,
           0.030244947315627886,
           -0.24764222072550915,
           0.0014095501425221153,
           0.0014095501425221153
          ],
          [
           -0.15472383379887564,
           0.06791300548393886,
           -0.3395667612197312,
           0.2702234006909114,
           -0.49966090657550394,
           0.5764459904628018,
           -0.27798621861429895,
           0.3557793138898068,
           -0.3872812893194349,
           0.3356775447149361,
           -0.27096880879621305,
           0.23773683710577165,
           -0.5602827240973082,
           0.7207587253715823,
           -0.4109773870484553,
           0.37858820287053346,
           -0.29984820174012566,
           0.48760777457689397,
           -0.3184379842626002,
           0.3594122842327643,
           -0.5634571830592184,
           -0.08920311276713497,
           1,
           -0.1796905371809081,
           0.06558986982285041,
           0.03608694374973045,
           0.02056954849896245,
           0.02056954849896245
          ],
          [
           0.08818517193939678,
           0.05989413984726166,
           -0.09085212304777424,
           0.2071326095529211,
           0.062214666980227595,
           0.06993594363731237,
           -0.10370283217982604,
           0.2631551777441274,
           -0.1873870132401171,
           0.3007013075001327,
           -0.14785355306076092,
           0.1006006644906365,
           0.17705415226300117,
           0.0977198049004222,
           -0.18634333748377616,
           0.21309353937757547,
           -0.22126482456608865,
           0.20113316300170805,
           -0.17868880957865502,
           0.2392570978349317,
           0.19877024214019764,
           -0.2342048647007157,
           -0.1796905371809081,
           1,
           0.011332143149377279,
           0.12679651083519866,
           -0.01102340410686258,
           -0.01102340410686258
          ],
          [
           0.004604853444455698,
           0.017802569056321042,
           -0.06230693619208061,
           -0.012246058301059527,
           -0.05492928716925575,
           -0.004916087705572126,
           -0.08574932944017627,
           0.019538430805762907,
           -0.09155871564646607,
           0.006901127925553593,
           -0.07049114250473477,
           -0.0018587414211403473,
           -0.0601202965011827,
           0.09363106679461487,
           -0.09906573106696942,
           -0.004713402225312504,
           -0.05114114308224001,
           0.04660308338696654,
           -0.09073503389713458,
           0.009450328755388294,
           -0.05493550788610785,
           0.030244947315627886,
           0.06558986982285041,
           0.011332143149377279,
           1,
           -0.026896369156325598,
           -0.006808235261886544,
           -0.006808235261886544
          ],
          [
           0.01536118613302367,
           -0.03631460923976622,
           0.578157149738537,
           0.641724807236042,
           0.5852400737094383,
           0.5044678927796474,
           0.6453044960090445,
           0.4144814250411645,
           0.5216656148027423,
           0.6165135252434017,
           0.588543655346454,
           0.1066826642780727,
           0.7701568504721119,
           -0.260406568029415,
           0.46660781904373866,
           0.6419709640507659,
           0.392679384028801,
           0.5017803316358651,
           0.5814695948879068,
           0.5403329124325165,
           0.7988629658525156,
           -0.24764222072550915,
           0.03608694374973045,
           0.12679651083519866,
           -0.026896369156325598,
           1,
           -0.003935843420293451,
           -0.003935843420293451
          ],
          [
           -0.011144917533634427,
           0.000521114548199676,
           -0.006008333470326337,
           -0.0015511191279474498,
           -0.009801271054957383,
           0.006400337210851117,
           -0.004929884370306254,
           -0.0005106663760804422,
           -0.0018004090468728385,
           -0.0017865022696098168,
           -0.005464001279929316,
           -0.009657837861703352,
           -0.014787445041565893,
           0.011671356607553548,
           -0.003899448265793756,
           0.0018526199524693885,
           -0.0031937114658229303,
           0.004519613069442226,
           -0.0012271527976214296,
           -0.002948325687892605,
           -0.014838643358736312,
           0.0014095501425221153,
           0.02056954849896245,
           -0.01102340410686258,
           -0.006808235261886544,
           -0.003935843420293451,
           1,
           1
          ],
          [
           -0.011144917533634427,
           0.000521114548199676,
           -0.006008333470326337,
           -0.0015511191279474498,
           -0.009801271054957383,
           0.006400337210851117,
           -0.004929884370306254,
           -0.0005106663760804422,
           -0.0018004090468728385,
           -0.0017865022696098168,
           -0.005464001279929316,
           -0.009657837861703352,
           -0.014787445041565893,
           0.011671356607553548,
           -0.003899448265793756,
           0.0018526199524693885,
           -0.0031937114658229303,
           0.004519613069442226,
           -0.0012271527976214296,
           -0.002948325687892605,
           -0.014838643358736312,
           0.0014095501425221153,
           0.02056954849896245,
           -0.01102340410686258,
           -0.006808235261886544,
           -0.003935843420293451,
           1,
           1
          ]
         ]
        }
       ],
       "layout": {
        "coloraxis": {
         "colorscale": [
          [
           0,
           "#0d0887"
          ],
          [
           0.1111111111111111,
           "#46039f"
          ],
          [
           0.2222222222222222,
           "#7201a8"
          ],
          [
           0.3333333333333333,
           "#9c179e"
          ],
          [
           0.4444444444444444,
           "#bd3786"
          ],
          [
           0.5555555555555556,
           "#d8576b"
          ],
          [
           0.6666666666666666,
           "#ed7953"
          ],
          [
           0.7777777777777778,
           "#fb9f3a"
          ],
          [
           0.8888888888888888,
           "#fdca26"
          ],
          [
           1,
           "#f0f921"
          ]
         ]
        },
        "margin": {
         "t": 60
        },
        "template": {
         "data": {
          "bar": [
           {
            "error_x": {
             "color": "#2a3f5f"
            },
            "error_y": {
             "color": "#2a3f5f"
            },
            "marker": {
             "line": {
              "color": "#E5ECF6",
              "width": 0.5
             },
             "pattern": {
              "fillmode": "overlay",
              "size": 10,
              "solidity": 0.2
             }
            },
            "type": "bar"
           }
          ],
          "barpolar": [
           {
            "marker": {
             "line": {
              "color": "#E5ECF6",
              "width": 0.5
             },
             "pattern": {
              "fillmode": "overlay",
              "size": 10,
              "solidity": 0.2
             }
            },
            "type": "barpolar"
           }
          ],
          "carpet": [
           {
            "aaxis": {
             "endlinecolor": "#2a3f5f",
             "gridcolor": "white",
             "linecolor": "white",
             "minorgridcolor": "white",
             "startlinecolor": "#2a3f5f"
            },
            "baxis": {
             "endlinecolor": "#2a3f5f",
             "gridcolor": "white",
             "linecolor": "white",
             "minorgridcolor": "white",
             "startlinecolor": "#2a3f5f"
            },
            "type": "carpet"
           }
          ],
          "choropleth": [
           {
            "colorbar": {
             "outlinewidth": 0,
             "ticks": ""
            },
            "type": "choropleth"
           }
          ],
          "contour": [
           {
            "colorbar": {
             "outlinewidth": 0,
             "ticks": ""
            },
            "colorscale": [
             [
              0,
              "#0d0887"
             ],
             [
              0.1111111111111111,
              "#46039f"
             ],
             [
              0.2222222222222222,
              "#7201a8"
             ],
             [
              0.3333333333333333,
              "#9c179e"
             ],
             [
              0.4444444444444444,
              "#bd3786"
             ],
             [
              0.5555555555555556,
              "#d8576b"
             ],
             [
              0.6666666666666666,
              "#ed7953"
             ],
             [
              0.7777777777777778,
              "#fb9f3a"
             ],
             [
              0.8888888888888888,
              "#fdca26"
             ],
             [
              1,
              "#f0f921"
             ]
            ],
            "type": "contour"
           }
          ],
          "contourcarpet": [
           {
            "colorbar": {
             "outlinewidth": 0,
             "ticks": ""
            },
            "type": "contourcarpet"
           }
          ],
          "heatmap": [
           {
            "colorbar": {
             "outlinewidth": 0,
             "ticks": ""
            },
            "colorscale": [
             [
              0,
              "#0d0887"
             ],
             [
              0.1111111111111111,
              "#46039f"
             ],
             [
              0.2222222222222222,
              "#7201a8"
             ],
             [
              0.3333333333333333,
              "#9c179e"
             ],
             [
              0.4444444444444444,
              "#bd3786"
             ],
             [
              0.5555555555555556,
              "#d8576b"
             ],
             [
              0.6666666666666666,
              "#ed7953"
             ],
             [
              0.7777777777777778,
              "#fb9f3a"
             ],
             [
              0.8888888888888888,
              "#fdca26"
             ],
             [
              1,
              "#f0f921"
             ]
            ],
            "type": "heatmap"
           }
          ],
          "heatmapgl": [
           {
            "colorbar": {
             "outlinewidth": 0,
             "ticks": ""
            },
            "colorscale": [
             [
              0,
              "#0d0887"
             ],
             [
              0.1111111111111111,
              "#46039f"
             ],
             [
              0.2222222222222222,
              "#7201a8"
             ],
             [
              0.3333333333333333,
              "#9c179e"
             ],
             [
              0.4444444444444444,
              "#bd3786"
             ],
             [
              0.5555555555555556,
              "#d8576b"
             ],
             [
              0.6666666666666666,
              "#ed7953"
             ],
             [
              0.7777777777777778,
              "#fb9f3a"
             ],
             [
              0.8888888888888888,
              "#fdca26"
             ],
             [
              1,
              "#f0f921"
             ]
            ],
            "type": "heatmapgl"
           }
          ],
          "histogram": [
           {
            "marker": {
             "pattern": {
              "fillmode": "overlay",
              "size": 10,
              "solidity": 0.2
             }
            },
            "type": "histogram"
           }
          ],
          "histogram2d": [
           {
            "colorbar": {
             "outlinewidth": 0,
             "ticks": ""
            },
            "colorscale": [
             [
              0,
              "#0d0887"
             ],
             [
              0.1111111111111111,
              "#46039f"
             ],
             [
              0.2222222222222222,
              "#7201a8"
             ],
             [
              0.3333333333333333,
              "#9c179e"
             ],
             [
              0.4444444444444444,
              "#bd3786"
             ],
             [
              0.5555555555555556,
              "#d8576b"
             ],
             [
              0.6666666666666666,
              "#ed7953"
             ],
             [
              0.7777777777777778,
              "#fb9f3a"
             ],
             [
              0.8888888888888888,
              "#fdca26"
             ],
             [
              1,
              "#f0f921"
             ]
            ],
            "type": "histogram2d"
           }
          ],
          "histogram2dcontour": [
           {
            "colorbar": {
             "outlinewidth": 0,
             "ticks": ""
            },
            "colorscale": [
             [
              0,
              "#0d0887"
             ],
             [
              0.1111111111111111,
              "#46039f"
             ],
             [
              0.2222222222222222,
              "#7201a8"
             ],
             [
              0.3333333333333333,
              "#9c179e"
             ],
             [
              0.4444444444444444,
              "#bd3786"
             ],
             [
              0.5555555555555556,
              "#d8576b"
             ],
             [
              0.6666666666666666,
              "#ed7953"
             ],
             [
              0.7777777777777778,
              "#fb9f3a"
             ],
             [
              0.8888888888888888,
              "#fdca26"
             ],
             [
              1,
              "#f0f921"
             ]
            ],
            "type": "histogram2dcontour"
           }
          ],
          "mesh3d": [
           {
            "colorbar": {
             "outlinewidth": 0,
             "ticks": ""
            },
            "type": "mesh3d"
           }
          ],
          "parcoords": [
           {
            "line": {
             "colorbar": {
              "outlinewidth": 0,
              "ticks": ""
             }
            },
            "type": "parcoords"
           }
          ],
          "pie": [
           {
            "automargin": true,
            "type": "pie"
           }
          ],
          "scatter": [
           {
            "marker": {
             "colorbar": {
              "outlinewidth": 0,
              "ticks": ""
             }
            },
            "type": "scatter"
           }
          ],
          "scatter3d": [
           {
            "line": {
             "colorbar": {
              "outlinewidth": 0,
              "ticks": ""
             }
            },
            "marker": {
             "colorbar": {
              "outlinewidth": 0,
              "ticks": ""
             }
            },
            "type": "scatter3d"
           }
          ],
          "scattercarpet": [
           {
            "marker": {
             "colorbar": {
              "outlinewidth": 0,
              "ticks": ""
             }
            },
            "type": "scattercarpet"
           }
          ],
          "scattergeo": [
           {
            "marker": {
             "colorbar": {
              "outlinewidth": 0,
              "ticks": ""
             }
            },
            "type": "scattergeo"
           }
          ],
          "scattergl": [
           {
            "marker": {
             "colorbar": {
              "outlinewidth": 0,
              "ticks": ""
             }
            },
            "type": "scattergl"
           }
          ],
          "scattermapbox": [
           {
            "marker": {
             "colorbar": {
              "outlinewidth": 0,
              "ticks": ""
             }
            },
            "type": "scattermapbox"
           }
          ],
          "scatterpolar": [
           {
            "marker": {
             "colorbar": {
              "outlinewidth": 0,
              "ticks": ""
             }
            },
            "type": "scatterpolar"
           }
          ],
          "scatterpolargl": [
           {
            "marker": {
             "colorbar": {
              "outlinewidth": 0,
              "ticks": ""
             }
            },
            "type": "scatterpolargl"
           }
          ],
          "scatterternary": [
           {
            "marker": {
             "colorbar": {
              "outlinewidth": 0,
              "ticks": ""
             }
            },
            "type": "scatterternary"
           }
          ],
          "surface": [
           {
            "colorbar": {
             "outlinewidth": 0,
             "ticks": ""
            },
            "colorscale": [
             [
              0,
              "#0d0887"
             ],
             [
              0.1111111111111111,
              "#46039f"
             ],
             [
              0.2222222222222222,
              "#7201a8"
             ],
             [
              0.3333333333333333,
              "#9c179e"
             ],
             [
              0.4444444444444444,
              "#bd3786"
             ],
             [
              0.5555555555555556,
              "#d8576b"
             ],
             [
              0.6666666666666666,
              "#ed7953"
             ],
             [
              0.7777777777777778,
              "#fb9f3a"
             ],
             [
              0.8888888888888888,
              "#fdca26"
             ],
             [
              1,
              "#f0f921"
             ]
            ],
            "type": "surface"
           }
          ],
          "table": [
           {
            "cells": {
             "fill": {
              "color": "#EBF0F8"
             },
             "line": {
              "color": "white"
             }
            },
            "header": {
             "fill": {
              "color": "#C8D4E3"
             },
             "line": {
              "color": "white"
             }
            },
            "type": "table"
           }
          ]
         },
         "layout": {
          "annotationdefaults": {
           "arrowcolor": "#2a3f5f",
           "arrowhead": 0,
           "arrowwidth": 1
          },
          "autotypenumbers": "strict",
          "coloraxis": {
           "colorbar": {
            "outlinewidth": 0,
            "ticks": ""
           }
          },
          "colorscale": {
           "diverging": [
            [
             0,
             "#8e0152"
            ],
            [
             0.1,
             "#c51b7d"
            ],
            [
             0.2,
             "#de77ae"
            ],
            [
             0.3,
             "#f1b6da"
            ],
            [
             0.4,
             "#fde0ef"
            ],
            [
             0.5,
             "#f7f7f7"
            ],
            [
             0.6,
             "#e6f5d0"
            ],
            [
             0.7,
             "#b8e186"
            ],
            [
             0.8,
             "#7fbc41"
            ],
            [
             0.9,
             "#4d9221"
            ],
            [
             1,
             "#276419"
            ]
           ],
           "sequential": [
            [
             0,
             "#0d0887"
            ],
            [
             0.1111111111111111,
             "#46039f"
            ],
            [
             0.2222222222222222,
             "#7201a8"
            ],
            [
             0.3333333333333333,
             "#9c179e"
            ],
            [
             0.4444444444444444,
             "#bd3786"
            ],
            [
             0.5555555555555556,
             "#d8576b"
            ],
            [
             0.6666666666666666,
             "#ed7953"
            ],
            [
             0.7777777777777778,
             "#fb9f3a"
            ],
            [
             0.8888888888888888,
             "#fdca26"
            ],
            [
             1,
             "#f0f921"
            ]
           ],
           "sequentialminus": [
            [
             0,
             "#0d0887"
            ],
            [
             0.1111111111111111,
             "#46039f"
            ],
            [
             0.2222222222222222,
             "#7201a8"
            ],
            [
             0.3333333333333333,
             "#9c179e"
            ],
            [
             0.4444444444444444,
             "#bd3786"
            ],
            [
             0.5555555555555556,
             "#d8576b"
            ],
            [
             0.6666666666666666,
             "#ed7953"
            ],
            [
             0.7777777777777778,
             "#fb9f3a"
            ],
            [
             0.8888888888888888,
             "#fdca26"
            ],
            [
             1,
             "#f0f921"
            ]
           ]
          },
          "colorway": [
           "#636efa",
           "#EF553B",
           "#00cc96",
           "#ab63fa",
           "#FFA15A",
           "#19d3f3",
           "#FF6692",
           "#B6E880",
           "#FF97FF",
           "#FECB52"
          ],
          "font": {
           "color": "#2a3f5f"
          },
          "geo": {
           "bgcolor": "white",
           "lakecolor": "white",
           "landcolor": "#E5ECF6",
           "showlakes": true,
           "showland": true,
           "subunitcolor": "white"
          },
          "hoverlabel": {
           "align": "left"
          },
          "hovermode": "closest",
          "mapbox": {
           "style": "light"
          },
          "paper_bgcolor": "white",
          "plot_bgcolor": "#E5ECF6",
          "polar": {
           "angularaxis": {
            "gridcolor": "white",
            "linecolor": "white",
            "ticks": ""
           },
           "bgcolor": "#E5ECF6",
           "radialaxis": {
            "gridcolor": "white",
            "linecolor": "white",
            "ticks": ""
           }
          },
          "scene": {
           "xaxis": {
            "backgroundcolor": "#E5ECF6",
            "gridcolor": "white",
            "gridwidth": 2,
            "linecolor": "white",
            "showbackground": true,
            "ticks": "",
            "zerolinecolor": "white"
           },
           "yaxis": {
            "backgroundcolor": "#E5ECF6",
            "gridcolor": "white",
            "gridwidth": 2,
            "linecolor": "white",
            "showbackground": true,
            "ticks": "",
            "zerolinecolor": "white"
           },
           "zaxis": {
            "backgroundcolor": "#E5ECF6",
            "gridcolor": "white",
            "gridwidth": 2,
            "linecolor": "white",
            "showbackground": true,
            "ticks": "",
            "zerolinecolor": "white"
           }
          },
          "shapedefaults": {
           "line": {
            "color": "#2a3f5f"
           }
          },
          "ternary": {
           "aaxis": {
            "gridcolor": "white",
            "linecolor": "white",
            "ticks": ""
           },
           "baxis": {
            "gridcolor": "white",
            "linecolor": "white",
            "ticks": ""
           },
           "bgcolor": "#E5ECF6",
           "caxis": {
            "gridcolor": "white",
            "linecolor": "white",
            "ticks": ""
           }
          },
          "title": {
           "x": 0.05
          },
          "xaxis": {
           "automargin": true,
           "gridcolor": "white",
           "linecolor": "white",
           "ticks": "",
           "title": {
            "standoff": 15
           },
           "zerolinecolor": "white",
           "zerolinewidth": 2
          },
          "yaxis": {
           "automargin": true,
           "gridcolor": "white",
           "linecolor": "white",
           "ticks": "",
           "title": {
            "standoff": 15
           },
           "zerolinecolor": "white",
           "zerolinewidth": 2
          }
         }
        },
        "xaxis": {
         "anchor": "y",
         "constrain": "domain",
         "domain": [
          0,
          1
         ],
         "scaleanchor": "y"
        },
        "yaxis": {
         "anchor": "x",
         "autorange": "reversed",
         "constrain": "domain",
         "domain": [
          0,
          1
         ]
        }
       }
      },
      "text/html": [
       "<div>                            <div id=\"b0a52df8-3e79-4908-9f26-14f716e083f1\" class=\"plotly-graph-div\" style=\"height:525px; width:100%;\"></div>            <script type=\"text/javascript\">                require([\"plotly\"], function(Plotly) {                    window.PLOTLYENV=window.PLOTLYENV || {};                                    if (document.getElementById(\"b0a52df8-3e79-4908-9f26-14f716e083f1\")) {                    Plotly.newPlot(                        \"b0a52df8-3e79-4908-9f26-14f716e083f1\",                        [{\"coloraxis\":\"coloraxis\",\"name\":\"0\",\"x\":[\"Appliances\",\"lights\",\"T1\",\"RH_1\",\"T2\",\"RH_2\",\"T3\",\"RH_3\",\"T4\",\"RH_4\",\"T5\",\"RH_5\",\"T6\",\"RH_6\",\"T7\",\"RH_7\",\"T8\",\"RH_8\",\"T9\",\"RH_9\",\"T_out\",\"Press_mm_hg\",\"RH_out\",\"Windspeed\",\"Visibility\",\"Tdewpoint\",\"rv1\",\"rv2\"],\"y\":[\"Appliances\",\"lights\",\"T1\",\"RH_1\",\"T2\",\"RH_2\",\"T3\",\"RH_3\",\"T4\",\"RH_4\",\"T5\",\"RH_5\",\"T6\",\"RH_6\",\"T7\",\"RH_7\",\"T8\",\"RH_8\",\"T9\",\"RH_9\",\"T_out\",\"Press_mm_hg\",\"RH_out\",\"Windspeed\",\"Visibility\",\"Tdewpoint\",\"rv1\",\"rv2\"],\"z\":[[1.0,0.1972775602062424,0.05499206165105539,0.08519746992262407,0.1199194341824277,-0.06284976305440976,0.08122579001229763,0.036186109298516345,0.040567689399945324,0.016965431418944472,0.018618370605187968,-0.016128630132683713,0.1186018060332739,-0.08317760704200591,0.025797797997190224,-0.05558989876688835,0.039692712480135305,-0.0940121599731031,0.010010284644667997,-0.051420830247359946,0.09985351606714142,-0.03390675418364162,-0.15472383379887564,0.08818517193939678,0.004604853444455698,0.01536118613302367,-0.011144917533634427,-0.011144917533634427],[0.1972775602062424,1.0,-0.02214779756317927,0.10800306179799865,-0.00369471525074998,0.05134206449000159,-0.09749942854553963,0.13098600036573124,-0.008387358656318561,0.11493570642535489,-0.0783544078557537,0.12549537598390867,-0.07899882687649737,0.15375647206660534,-0.13534720211219342,0.03485424857832835,-0.07128404806241037,0.01281564374421062,-0.15759240705013317,-0.008813390001225063,-0.07427207114394363,-0.009908770175390316,0.06791300548393886,0.05989413984726166,0.017802569056321042,-0.03631460923976622,0.000521114548199676,0.000521114548199676],[0.05499206165105539,-0.02214779756317927,1.0,0.1674337074366219,0.8467004314426676,0.004999872350662182,0.8928965788399865,-0.026010287676555194,0.8751363927015499,0.10149414838082504,0.8853215275177231,-0.034033239403668626,0.6562940678136605,-0.6155176174419381,0.8381885986597218,0.13829212151714146,0.8248302584878344,-0.004088557003729788,0.844697441900139,0.07331061943354071,0.68446621818605,-0.1465963271434472,-0.3395667612197312,-0.09085212304777424,-0.06230693619208061,0.578157149738537,-0.006008333470326337,-0.006008333470326337],[0.08519746992262407,0.10800306179799865,0.1674337074366219,1.0,0.27592861270160896,0.799038450194996,0.2501615281651287,0.8472333428011941,0.10718900911607959,0.8840489244559935,0.2060939965994089,0.3792213630823717,0.3240838541829369,0.24638603147655747,0.020872129789873635,0.8045120094067199,-0.031117736060370143,0.7393603851710447,0.11509303079080349,0.7671245091382616,0.35221929830191556,-0.2965788338954738,0.2702234006909114,0.2071326095529211,-0.012246058301059527,0.641724807236042,-0.0015511191279474498,-0.0015511191279474498],[0.1199194341824277,-0.00369471525074998,0.8467004314426676,0.27592861270160896,1.0,-0.1429667093214061,0.737570382695767,0.1256689698854534,0.7664492935516818,0.23835711223167577,0.7260781599134258,0.017814867179026306,0.7939804785437905,-0.5811692258489464,0.6668148283681529,0.23125647617647024,0.5858297008978467,0.07066570603594183,0.677824491510495,0.1581099961110129,0.7885641139455638,-0.13379554924993584,-0.49966090657550394,0.062214666980227595,-0.05492928716925575,0.5852400737094383,-0.009801271054957383,-0.009801271054957383],[-0.06284976305440976,0.05134206449000159,0.004999872350662182,0.799038450194996,-0.1429667093214061,1.0,0.14263132441730528,0.6809408309395308,-0.042741946376973594,0.7246558778924006,0.11622816260368429,0.32674234101888955,0.010819794356595016,0.38888663371280896,-0.04859997152100826,0.6956278205185599,-0.03896637883845088,0.6846122351635522,0.05800380839302121,0.6819489809621249,0.05619418141750718,-0.25812601663703477,0.5764459904628018,0.06993594363731237,-0.004916087705572126,0.5044678927796474,0.006400337210851117,0.006400337210851117],[0.08122579001229763,-0.09749942854553963,0.8928965788399865,0.2501615281651287,0.737570382695767,0.14263132441730528,1.0,-0.012922753216753654,0.853876887976195,0.11970613532601129,0.8895170288534181,-0.07756755304403924,0.6840909742068954,-0.6486969997576651,0.8482479846707476,0.1705363316756265,0.7982803268904242,0.041768852357148806,0.9029312355483423,0.13310597774026536,0.6976206586449113,-0.19348476584666494,-0.27798621861429895,-0.10370283217982604,-0.08574932944017627,0.6453044960090445,-0.004929884370306254,-0.004929884370306254],[0.036186109298516345,0.13098600036573124,-0.026010287676555194,0.8472333428011941,0.1256689698854534,0.6809408309395308,-0.012922753216753654,1.0,-0.13998341487428967,0.8991342861390711,-0.049955419602962875,0.4611801517703872,0.07930409588213164,0.5149255838759049,-0.24992454936263625,0.832866743156097,-0.2831552790534018,0.8289549064946482,-0.19510656012996913,0.833771136988487,0.12313619566433968,-0.23403232291226458,0.3557793138898068,0.2631551777441274,0.019538430805762907,0.4144814250411645,-0.0005106663760804422,-0.0005106663760804422],[0.040567689399945324,-0.008387358656318561,0.8751363927015499,0.10718900911607959,0.7664492935516818,-0.042741946376973594,0.853876887976195,-0.13998341487428967,1.0,-0.04762863704480866,0.8722006579004544,-0.09993805181961728,0.6525322205583499,-0.7036801678553471,0.8779083838529643,0.044678614925235616,0.7955464969918418,-0.09440968132215051,0.8896574459825316,-0.02524072507013227,0.6642822011553111,-0.07682161407397672,-0.3872812893194349,-0.1873870132401171,-0.09155871564646607,0.5216656148027423,-0.0018004090468728385,-0.0018004090468728385],[0.016965431418944472,0.11493570642535489,0.10149414838082504,0.8840489244559935,0.23835711223167577,0.7246558778924006,0.11970613532601129,0.8991342861390711,-0.04762863704480866,1.0,0.09106584270758007,0.4313189879274174,0.26415793528281384,0.3921777097035171,-0.13120509356045523,0.8943703576317041,-0.16680826658968373,0.847270091140946,-0.044517583619793875,0.8566479032424844,0.30056818540223085,-0.2516920762471149,0.3356775447149361,0.3007013075001327,0.006901127925553593,0.6165135252434017,-0.0017865022696098168,-0.0017865022696098168],[0.018618370605187968,-0.0783544078557537,0.8853215275177231,0.2060939965994089,0.7260781599134258,0.11622816260368429,0.8895170288534181,-0.049955419602962875,0.8722006579004544,0.09106584270758007,1.0,-0.011155974210819177,0.6274882069796986,-0.6328118254359959,0.8708096584982389,0.1488573136698355,0.8255628108418571,0.015819166367725433,0.9115286756423487,0.0725575701130522,0.6501032659055405,-0.17478997194215465,-0.27096880879621305,-0.14785355306076092,-0.07049114250473477,0.588543655346454,-0.005464001279929316,-0.005464001279929316],[-0.016128630132683713,0.12549537598390867,-0.034033239403668626,0.3792213630823717,0.017814867179026306,0.32674234101888955,-0.07756755304403924,0.4611801517703872,-0.09993805181961728,0.4313189879274174,-0.011155974210819177,1.0,-0.0910711039135377,0.32540498991552624,-0.16818025270779538,0.4139973475335935,-0.11609329640246327,0.4520868271568674,-0.16039793050981704,0.364821136132186,-0.05939456614131225,-0.14862963206687047,0.23773683710577165,0.1006006644906365,-0.0018587414211403473,0.1066826642780727,-0.009657837861703352,-0.009657837861703352],[0.1186018060332739,-0.07899882687649737,0.6562940678136605,0.3240838541829369,0.7939804785437905,0.010819794356595016,0.6840909742068954,0.07930409588213164,0.6525322205583499,0.26415793528281384,0.6274882069796986,-0.0910711039135377,1.0,-0.67332493090219,0.6180295911324987,0.2587422064758795,0.4841841631939985,0.07654386084837149,0.6674269818495219,0.18702509000885562,0.97468072482053,-0.1447432917682596,-0.5602827240973082,0.17705415226300117,-0.0601202965011827,0.7701568504721119,-0.014787445041565893,-0.014787445041565893],[-0.08317760704200591,0.15375647206660534,-0.6155176174419381,0.24638603147655747,-0.5811692258489464,0.38888663371280896,-0.6486969997576651,0.5149255838759049,-0.7036801678553471,0.3921777097035171,-0.6328118254359959,0.32540498991552624,-0.67332493090219,1.0,-0.7539734564103739,0.3571336035259238,-0.6660684009334719,0.48957733919380575,-0.7389402122949267,0.3918980371026075,-0.6422034625289552,-0.061718075779253374,0.7207587253715823,0.0977198049004222,0.09363106679461487,-0.260406568029415,0.011671356607553548,0.011671356607553548],[0.025797797997190224,-0.13534720211219342,0.8381885986597218,0.020872129789873635,0.6668148283681529,-0.04859997152100826,0.8482479846707476,-0.24992454936263625,0.8779083838529643,-0.13120509356045523,0.8708096584982389,-0.16818025270779538,0.6180295911324987,-0.7539734564103739,1.0,-0.03384173537316583,0.8822443315409058,-0.20996433557406963,0.9447765228645182,-0.07772439413499417,0.6306220443281363,-0.1017679665628786,-0.4109773870484553,-0.18634333748377616,-0.09906573106696942,0.46660781904373866,-0.003899448265793756,-0.003899448265793756],[-0.05558989876688835,0.03485424857832835,0.13829212151714146,0.8045120094067199,0.23125647617647024,0.6956278205185599,0.1705363316756265,0.832866743156097,0.044678614925235616,0.8943703576317041,0.1488573136698355,0.4139973475335935,0.2587422064758795,0.3571336035259238,-0.03384173537316583,1.0,-0.12390905273099659,0.8839050928012749,0.028285996931710185,0.8586696728879444,0.29995862795380124,-0.26802865493921957,0.37858820287053346,0.21309353937757547,-0.004713402225312504,0.6419709640507659,0.0018526199524693885,0.0018526199524693885],[0.039692712480135305,-0.07128404806241037,0.8248302584878344,-0.031117736060370143,0.5858297008978467,-0.03896637883845088,0.7982803268904242,-0.2831552790534018,0.7955464969918418,-0.16680826658968373,0.8255628108418571,-0.11609329640246327,0.4841841631939985,-0.6660684009334719,0.8822443315409058,-0.12390905273099659,1.0,-0.209480585710124,0.8694464173942866,-0.1568998890214469,0.5040095201626175,-0.1645085703942322,-0.29984820174012566,-0.22126482456608865,-0.05114114308224001,0.392679384028801,-0.0031937114658229303,-0.0031937114658229303],[-0.0940121599731031,0.01281564374421062,-0.004088557003729788,0.7393603851710447,0.07066570603594183,0.6846122351635522,0.041768852357148806,0.8289549064946482,-0.09440968132215051,0.847270091140946,0.015819166367725433,0.4520868271568674,0.07654386084837149,0.48957733919380575,-0.20996433557406963,0.8839050928012749,-0.209480585710124,1.0,-0.11294467703064473,0.8558524433646815,0.12313532934972077,-0.22697106607726486,0.48760777457689397,0.20113316300170805,0.04660308338696654,0.5017803316358651,0.004519613069442226,0.004519613069442226],[0.010010284644667997,-0.15759240705013317,0.844697441900139,0.11509303079080349,0.677824491510495,0.05800380839302121,0.9029312355483423,-0.19510656012996913,0.8896574459825316,-0.044517583619793875,0.9115286756423487,-0.16039793050981704,0.6674269818495219,-0.7389402122949267,0.9447765228645182,0.028285996931710185,0.8694464173942866,-0.11294467703064473,1.0,-0.008704720343169233,0.6689603523669658,-0.16124155722488723,-0.3184379842626002,-0.17868880957865502,-0.09073503389713458,0.5814695948879068,-0.0012271527976214296,-0.0012271527976214296],[-0.051420830247359946,-0.008813390001225063,0.07331061943354071,0.7671245091382616,0.1581099961110129,0.6819489809621249,0.13310597774026536,0.833771136988487,-0.02524072507013227,0.8566479032424844,0.0725575701130522,0.364821136132186,0.18702509000885562,0.3918980371026075,-0.07772439413499417,0.8586696728879444,-0.1568998890214469,0.8558524433646815,-0.008704720343169233,1.0,0.22879753252283727,-0.18567447533532838,0.3594122842327643,0.2392570978349317,0.009450328755388294,0.5403329124325165,-0.002948325687892605,-0.002948325687892605],[0.09985351606714142,-0.07427207114394363,0.68446621818605,0.35221929830191556,0.7885641139455638,0.05619418141750718,0.6976206586449113,0.12313619566433968,0.6642822011553111,0.30056818540223085,0.6501032659055405,-0.05939456614131225,0.97468072482053,-0.6422034625289552,0.6306220443281363,0.29995862795380124,0.5040095201626175,0.12313532934972077,0.6689603523669658,0.22879753252283727,1.0,-0.14662428370891858,-0.5634571830592184,0.19877024214019764,-0.05493550788610785,0.7988629658525156,-0.014838643358736312,-0.014838643358736312],[-0.03390675418364162,-0.009908770175390316,-0.1465963271434472,-0.2965788338954738,-0.13379554924993584,-0.25812601663703477,-0.19348476584666494,-0.23403232291226458,-0.07682161407397672,-0.2516920762471149,-0.17478997194215465,-0.14862963206687047,-0.1447432917682596,-0.061718075779253374,-0.1017679665628786,-0.26802865493921957,-0.1645085703942322,-0.22697106607726486,-0.16124155722488723,-0.18567447533532838,-0.14662428370891858,1.0,-0.08920311276713497,-0.2342048647007157,0.030244947315627886,-0.24764222072550915,0.0014095501425221153,0.0014095501425221153],[-0.15472383379887564,0.06791300548393886,-0.3395667612197312,0.2702234006909114,-0.49966090657550394,0.5764459904628018,-0.27798621861429895,0.3557793138898068,-0.3872812893194349,0.3356775447149361,-0.27096880879621305,0.23773683710577165,-0.5602827240973082,0.7207587253715823,-0.4109773870484553,0.37858820287053346,-0.29984820174012566,0.48760777457689397,-0.3184379842626002,0.3594122842327643,-0.5634571830592184,-0.08920311276713497,1.0,-0.1796905371809081,0.06558986982285041,0.03608694374973045,0.02056954849896245,0.02056954849896245],[0.08818517193939678,0.05989413984726166,-0.09085212304777424,0.2071326095529211,0.062214666980227595,0.06993594363731237,-0.10370283217982604,0.2631551777441274,-0.1873870132401171,0.3007013075001327,-0.14785355306076092,0.1006006644906365,0.17705415226300117,0.0977198049004222,-0.18634333748377616,0.21309353937757547,-0.22126482456608865,0.20113316300170805,-0.17868880957865502,0.2392570978349317,0.19877024214019764,-0.2342048647007157,-0.1796905371809081,1.0,0.011332143149377279,0.12679651083519866,-0.01102340410686258,-0.01102340410686258],[0.004604853444455698,0.017802569056321042,-0.06230693619208061,-0.012246058301059527,-0.05492928716925575,-0.004916087705572126,-0.08574932944017627,0.019538430805762907,-0.09155871564646607,0.006901127925553593,-0.07049114250473477,-0.0018587414211403473,-0.0601202965011827,0.09363106679461487,-0.09906573106696942,-0.004713402225312504,-0.05114114308224001,0.04660308338696654,-0.09073503389713458,0.009450328755388294,-0.05493550788610785,0.030244947315627886,0.06558986982285041,0.011332143149377279,1.0,-0.026896369156325598,-0.006808235261886544,-0.006808235261886544],[0.01536118613302367,-0.03631460923976622,0.578157149738537,0.641724807236042,0.5852400737094383,0.5044678927796474,0.6453044960090445,0.4144814250411645,0.5216656148027423,0.6165135252434017,0.588543655346454,0.1066826642780727,0.7701568504721119,-0.260406568029415,0.46660781904373866,0.6419709640507659,0.392679384028801,0.5017803316358651,0.5814695948879068,0.5403329124325165,0.7988629658525156,-0.24764222072550915,0.03608694374973045,0.12679651083519866,-0.026896369156325598,1.0,-0.003935843420293451,-0.003935843420293451],[-0.011144917533634427,0.000521114548199676,-0.006008333470326337,-0.0015511191279474498,-0.009801271054957383,0.006400337210851117,-0.004929884370306254,-0.0005106663760804422,-0.0018004090468728385,-0.0017865022696098168,-0.005464001279929316,-0.009657837861703352,-0.014787445041565893,0.011671356607553548,-0.003899448265793756,0.0018526199524693885,-0.0031937114658229303,0.004519613069442226,-0.0012271527976214296,-0.002948325687892605,-0.014838643358736312,0.0014095501425221153,0.02056954849896245,-0.01102340410686258,-0.006808235261886544,-0.003935843420293451,1.0,1.0],[-0.011144917533634427,0.000521114548199676,-0.006008333470326337,-0.0015511191279474498,-0.009801271054957383,0.006400337210851117,-0.004929884370306254,-0.0005106663760804422,-0.0018004090468728385,-0.0017865022696098168,-0.005464001279929316,-0.009657837861703352,-0.014787445041565893,0.011671356607553548,-0.003899448265793756,0.0018526199524693885,-0.0031937114658229303,0.004519613069442226,-0.0012271527976214296,-0.002948325687892605,-0.014838643358736312,0.0014095501425221153,0.02056954849896245,-0.01102340410686258,-0.006808235261886544,-0.003935843420293451,1.0,1.0]],\"type\":\"heatmap\",\"xaxis\":\"x\",\"yaxis\":\"y\",\"hovertemplate\":\"x: %{x}<br>y: %{y}<br>color: %{z}<extra></extra>\"}],                        {\"template\":{\"data\":{\"bar\":[{\"error_x\":{\"color\":\"#2a3f5f\"},\"error_y\":{\"color\":\"#2a3f5f\"},\"marker\":{\"line\":{\"color\":\"#E5ECF6\",\"width\":0.5},\"pattern\":{\"fillmode\":\"overlay\",\"size\":10,\"solidity\":0.2}},\"type\":\"bar\"}],\"barpolar\":[{\"marker\":{\"line\":{\"color\":\"#E5ECF6\",\"width\":0.5},\"pattern\":{\"fillmode\":\"overlay\",\"size\":10,\"solidity\":0.2}},\"type\":\"barpolar\"}],\"carpet\":[{\"aaxis\":{\"endlinecolor\":\"#2a3f5f\",\"gridcolor\":\"white\",\"linecolor\":\"white\",\"minorgridcolor\":\"white\",\"startlinecolor\":\"#2a3f5f\"},\"baxis\":{\"endlinecolor\":\"#2a3f5f\",\"gridcolor\":\"white\",\"linecolor\":\"white\",\"minorgridcolor\":\"white\",\"startlinecolor\":\"#2a3f5f\"},\"type\":\"carpet\"}],\"choropleth\":[{\"colorbar\":{\"outlinewidth\":0,\"ticks\":\"\"},\"type\":\"choropleth\"}],\"contour\":[{\"colorbar\":{\"outlinewidth\":0,\"ticks\":\"\"},\"colorscale\":[[0.0,\"#0d0887\"],[0.1111111111111111,\"#46039f\"],[0.2222222222222222,\"#7201a8\"],[0.3333333333333333,\"#9c179e\"],[0.4444444444444444,\"#bd3786\"],[0.5555555555555556,\"#d8576b\"],[0.6666666666666666,\"#ed7953\"],[0.7777777777777778,\"#fb9f3a\"],[0.8888888888888888,\"#fdca26\"],[1.0,\"#f0f921\"]],\"type\":\"contour\"}],\"contourcarpet\":[{\"colorbar\":{\"outlinewidth\":0,\"ticks\":\"\"},\"type\":\"contourcarpet\"}],\"heatmap\":[{\"colorbar\":{\"outlinewidth\":0,\"ticks\":\"\"},\"colorscale\":[[0.0,\"#0d0887\"],[0.1111111111111111,\"#46039f\"],[0.2222222222222222,\"#7201a8\"],[0.3333333333333333,\"#9c179e\"],[0.4444444444444444,\"#bd3786\"],[0.5555555555555556,\"#d8576b\"],[0.6666666666666666,\"#ed7953\"],[0.7777777777777778,\"#fb9f3a\"],[0.8888888888888888,\"#fdca26\"],[1.0,\"#f0f921\"]],\"type\":\"heatmap\"}],\"heatmapgl\":[{\"colorbar\":{\"outlinewidth\":0,\"ticks\":\"\"},\"colorscale\":[[0.0,\"#0d0887\"],[0.1111111111111111,\"#46039f\"],[0.2222222222222222,\"#7201a8\"],[0.3333333333333333,\"#9c179e\"],[0.4444444444444444,\"#bd3786\"],[0.5555555555555556,\"#d8576b\"],[0.6666666666666666,\"#ed7953\"],[0.7777777777777778,\"#fb9f3a\"],[0.8888888888888888,\"#fdca26\"],[1.0,\"#f0f921\"]],\"type\":\"heatmapgl\"}],\"histogram\":[{\"marker\":{\"pattern\":{\"fillmode\":\"overlay\",\"size\":10,\"solidity\":0.2}},\"type\":\"histogram\"}],\"histogram2d\":[{\"colorbar\":{\"outlinewidth\":0,\"ticks\":\"\"},\"colorscale\":[[0.0,\"#0d0887\"],[0.1111111111111111,\"#46039f\"],[0.2222222222222222,\"#7201a8\"],[0.3333333333333333,\"#9c179e\"],[0.4444444444444444,\"#bd3786\"],[0.5555555555555556,\"#d8576b\"],[0.6666666666666666,\"#ed7953\"],[0.7777777777777778,\"#fb9f3a\"],[0.8888888888888888,\"#fdca26\"],[1.0,\"#f0f921\"]],\"type\":\"histogram2d\"}],\"histogram2dcontour\":[{\"colorbar\":{\"outlinewidth\":0,\"ticks\":\"\"},\"colorscale\":[[0.0,\"#0d0887\"],[0.1111111111111111,\"#46039f\"],[0.2222222222222222,\"#7201a8\"],[0.3333333333333333,\"#9c179e\"],[0.4444444444444444,\"#bd3786\"],[0.5555555555555556,\"#d8576b\"],[0.6666666666666666,\"#ed7953\"],[0.7777777777777778,\"#fb9f3a\"],[0.8888888888888888,\"#fdca26\"],[1.0,\"#f0f921\"]],\"type\":\"histogram2dcontour\"}],\"mesh3d\":[{\"colorbar\":{\"outlinewidth\":0,\"ticks\":\"\"},\"type\":\"mesh3d\"}],\"parcoords\":[{\"line\":{\"colorbar\":{\"outlinewidth\":0,\"ticks\":\"\"}},\"type\":\"parcoords\"}],\"pie\":[{\"automargin\":true,\"type\":\"pie\"}],\"scatter\":[{\"marker\":{\"colorbar\":{\"outlinewidth\":0,\"ticks\":\"\"}},\"type\":\"scatter\"}],\"scatter3d\":[{\"line\":{\"colorbar\":{\"outlinewidth\":0,\"ticks\":\"\"}},\"marker\":{\"colorbar\":{\"outlinewidth\":0,\"ticks\":\"\"}},\"type\":\"scatter3d\"}],\"scattercarpet\":[{\"marker\":{\"colorbar\":{\"outlinewidth\":0,\"ticks\":\"\"}},\"type\":\"scattercarpet\"}],\"scattergeo\":[{\"marker\":{\"colorbar\":{\"outlinewidth\":0,\"ticks\":\"\"}},\"type\":\"scattergeo\"}],\"scattergl\":[{\"marker\":{\"colorbar\":{\"outlinewidth\":0,\"ticks\":\"\"}},\"type\":\"scattergl\"}],\"scattermapbox\":[{\"marker\":{\"colorbar\":{\"outlinewidth\":0,\"ticks\":\"\"}},\"type\":\"scattermapbox\"}],\"scatterpolar\":[{\"marker\":{\"colorbar\":{\"outlinewidth\":0,\"ticks\":\"\"}},\"type\":\"scatterpolar\"}],\"scatterpolargl\":[{\"marker\":{\"colorbar\":{\"outlinewidth\":0,\"ticks\":\"\"}},\"type\":\"scatterpolargl\"}],\"scatterternary\":[{\"marker\":{\"colorbar\":{\"outlinewidth\":0,\"ticks\":\"\"}},\"type\":\"scatterternary\"}],\"surface\":[{\"colorbar\":{\"outlinewidth\":0,\"ticks\":\"\"},\"colorscale\":[[0.0,\"#0d0887\"],[0.1111111111111111,\"#46039f\"],[0.2222222222222222,\"#7201a8\"],[0.3333333333333333,\"#9c179e\"],[0.4444444444444444,\"#bd3786\"],[0.5555555555555556,\"#d8576b\"],[0.6666666666666666,\"#ed7953\"],[0.7777777777777778,\"#fb9f3a\"],[0.8888888888888888,\"#fdca26\"],[1.0,\"#f0f921\"]],\"type\":\"surface\"}],\"table\":[{\"cells\":{\"fill\":{\"color\":\"#EBF0F8\"},\"line\":{\"color\":\"white\"}},\"header\":{\"fill\":{\"color\":\"#C8D4E3\"},\"line\":{\"color\":\"white\"}},\"type\":\"table\"}]},\"layout\":{\"annotationdefaults\":{\"arrowcolor\":\"#2a3f5f\",\"arrowhead\":0,\"arrowwidth\":1},\"autotypenumbers\":\"strict\",\"coloraxis\":{\"colorbar\":{\"outlinewidth\":0,\"ticks\":\"\"}},\"colorscale\":{\"diverging\":[[0,\"#8e0152\"],[0.1,\"#c51b7d\"],[0.2,\"#de77ae\"],[0.3,\"#f1b6da\"],[0.4,\"#fde0ef\"],[0.5,\"#f7f7f7\"],[0.6,\"#e6f5d0\"],[0.7,\"#b8e186\"],[0.8,\"#7fbc41\"],[0.9,\"#4d9221\"],[1,\"#276419\"]],\"sequential\":[[0.0,\"#0d0887\"],[0.1111111111111111,\"#46039f\"],[0.2222222222222222,\"#7201a8\"],[0.3333333333333333,\"#9c179e\"],[0.4444444444444444,\"#bd3786\"],[0.5555555555555556,\"#d8576b\"],[0.6666666666666666,\"#ed7953\"],[0.7777777777777778,\"#fb9f3a\"],[0.8888888888888888,\"#fdca26\"],[1.0,\"#f0f921\"]],\"sequentialminus\":[[0.0,\"#0d0887\"],[0.1111111111111111,\"#46039f\"],[0.2222222222222222,\"#7201a8\"],[0.3333333333333333,\"#9c179e\"],[0.4444444444444444,\"#bd3786\"],[0.5555555555555556,\"#d8576b\"],[0.6666666666666666,\"#ed7953\"],[0.7777777777777778,\"#fb9f3a\"],[0.8888888888888888,\"#fdca26\"],[1.0,\"#f0f921\"]]},\"colorway\":[\"#636efa\",\"#EF553B\",\"#00cc96\",\"#ab63fa\",\"#FFA15A\",\"#19d3f3\",\"#FF6692\",\"#B6E880\",\"#FF97FF\",\"#FECB52\"],\"font\":{\"color\":\"#2a3f5f\"},\"geo\":{\"bgcolor\":\"white\",\"lakecolor\":\"white\",\"landcolor\":\"#E5ECF6\",\"showlakes\":true,\"showland\":true,\"subunitcolor\":\"white\"},\"hoverlabel\":{\"align\":\"left\"},\"hovermode\":\"closest\",\"mapbox\":{\"style\":\"light\"},\"paper_bgcolor\":\"white\",\"plot_bgcolor\":\"#E5ECF6\",\"polar\":{\"angularaxis\":{\"gridcolor\":\"white\",\"linecolor\":\"white\",\"ticks\":\"\"},\"bgcolor\":\"#E5ECF6\",\"radialaxis\":{\"gridcolor\":\"white\",\"linecolor\":\"white\",\"ticks\":\"\"}},\"scene\":{\"xaxis\":{\"backgroundcolor\":\"#E5ECF6\",\"gridcolor\":\"white\",\"gridwidth\":2,\"linecolor\":\"white\",\"showbackground\":true,\"ticks\":\"\",\"zerolinecolor\":\"white\"},\"yaxis\":{\"backgroundcolor\":\"#E5ECF6\",\"gridcolor\":\"white\",\"gridwidth\":2,\"linecolor\":\"white\",\"showbackground\":true,\"ticks\":\"\",\"zerolinecolor\":\"white\"},\"zaxis\":{\"backgroundcolor\":\"#E5ECF6\",\"gridcolor\":\"white\",\"gridwidth\":2,\"linecolor\":\"white\",\"showbackground\":true,\"ticks\":\"\",\"zerolinecolor\":\"white\"}},\"shapedefaults\":{\"line\":{\"color\":\"#2a3f5f\"}},\"ternary\":{\"aaxis\":{\"gridcolor\":\"white\",\"linecolor\":\"white\",\"ticks\":\"\"},\"baxis\":{\"gridcolor\":\"white\",\"linecolor\":\"white\",\"ticks\":\"\"},\"bgcolor\":\"#E5ECF6\",\"caxis\":{\"gridcolor\":\"white\",\"linecolor\":\"white\",\"ticks\":\"\"}},\"title\":{\"x\":0.05},\"xaxis\":{\"automargin\":true,\"gridcolor\":\"white\",\"linecolor\":\"white\",\"ticks\":\"\",\"title\":{\"standoff\":15},\"zerolinecolor\":\"white\",\"zerolinewidth\":2},\"yaxis\":{\"automargin\":true,\"gridcolor\":\"white\",\"linecolor\":\"white\",\"ticks\":\"\",\"title\":{\"standoff\":15},\"zerolinecolor\":\"white\",\"zerolinewidth\":2}}},\"xaxis\":{\"anchor\":\"y\",\"domain\":[0.0,1.0],\"scaleanchor\":\"y\",\"constrain\":\"domain\"},\"yaxis\":{\"anchor\":\"x\",\"domain\":[0.0,1.0],\"autorange\":\"reversed\",\"constrain\":\"domain\"},\"coloraxis\":{\"colorscale\":[[0.0,\"#0d0887\"],[0.1111111111111111,\"#46039f\"],[0.2222222222222222,\"#7201a8\"],[0.3333333333333333,\"#9c179e\"],[0.4444444444444444,\"#bd3786\"],[0.5555555555555556,\"#d8576b\"],[0.6666666666666666,\"#ed7953\"],[0.7777777777777778,\"#fb9f3a\"],[0.8888888888888888,\"#fdca26\"],[1.0,\"#f0f921\"]]},\"margin\":{\"t\":60}},                        {\"responsive\": true}                    ).then(function(){\n",
       "                            \n",
       "var gd = document.getElementById('b0a52df8-3e79-4908-9f26-14f716e083f1');\n",
       "var x = new MutationObserver(function (mutations, observer) {{\n",
       "        var display = window.getComputedStyle(gd).display;\n",
       "        if (!display || display === 'none') {{\n",
       "            console.log([gd, 'removed!']);\n",
       "            Plotly.purge(gd);\n",
       "            observer.disconnect();\n",
       "        }}\n",
       "}});\n",
       "\n",
       "// Listen for the removal of the full notebook cells\n",
       "var notebookContainer = gd.closest('#notebook-container');\n",
       "if (notebookContainer) {{\n",
       "    x.observe(notebookContainer, {childList: true});\n",
       "}}\n",
       "\n",
       "// Listen for the clearing of the current output cell\n",
       "var outputEl = gd.closest('.output');\n",
       "if (outputEl) {{\n",
       "    x.observe(outputEl, {childList: true});\n",
       "}}\n",
       "\n",
       "                        })                };                });            </script>        </div>"
      ]
     },
     "metadata": {},
     "output_type": "display_data"
    }
   ],
   "source": [
    "fig = px.imshow(df.corr())\n",
    "fig.show()"
   ]
  },
  {
   "cell_type": "markdown",
   "metadata": {
    "id": "f7JpYZ042eWo"
   },
   "source": [
    "<h1>Plots with Date variable"
   ]
  },
  {
   "cell_type": "code",
   "execution_count": 56,
   "metadata": {},
   "outputs": [],
   "source": [
    "df_1 = df.set_index('date')"
   ]
  },
  {
   "cell_type": "code",
   "execution_count": 57,
   "metadata": {},
   "outputs": [
    {
     "data": {
      "text/plain": [
       "<AxesSubplot:xlabel='date'>"
      ]
     },
     "execution_count": 57,
     "metadata": {},
     "output_type": "execute_result"
    },
    {
     "data": {
      "image/png": "[encoded data removed]",
      "text/plain": [
       "<Figure size 1296x432 with 1 Axes>"
      ]
     },
     "metadata": {
      "needs_background": "light"
     },
     "output_type": "display_data"
    }
   ],
   "source": [
    "df_1[['Appliances']].plot(figsize = (18, 6))"
   ]
  },
  {
   "cell_type": "code",
   "execution_count": 58,
   "metadata": {},
   "outputs": [
    {
     "data": {
      "text/plain": [
       "<AxesSubplot:xlabel='date'>"
      ]
     },
     "execution_count": 58,
     "metadata": {},
     "output_type": "execute_result"
    },
    {
     "data": {
      "image/png": "[encoded data removed]",
      "text/plain": [
       "<Figure size 1296x432 with 1 Axes>"
      ]
     },
     "metadata": {
      "needs_background": "light"
     },
     "output_type": "display_data"
    }
   ],
   "source": [
    "df_1[['lights']].plot(figsize = (18, 6))"
   ]
  },
  {
   "cell_type": "code",
   "execution_count": null,
   "metadata": {},
   "outputs": [],
   "source": []
  }
 ],
 "metadata": {
  "colab": {
   "collapsed_sections": [],
   "name": "Untitled4.ipynb",
   "provenance": []
  },
  "kernelspec": {
   "display_name": "Python 3",
   "language": "python",
   "name": "python3"
  },
  "language_info": {
   "codemirror_mode": {
    "name": "ipython",
    "version": 3
   },
   "file_extension": ".py",
   "mimetype": "text/x-python",
   "name": "python",
   "nbconvert_exporter": "python",
   "pygments_lexer": "ipython3",
   "version": "3.8.8"
  }
 },
 "nbformat": 4,
 "nbformat_minor": 1
}
